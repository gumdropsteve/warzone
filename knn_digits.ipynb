{
 "cells": [
  {
   "cell_type": "markdown",
   "metadata": {},
   "source": [
    "# KNN Digits\n",
    "Implementing a simple KNN to classify digits."
   ]
  },
  {
   "cell_type": "code",
   "execution_count": 1,
   "metadata": {},
   "outputs": [],
   "source": [
    "import cv2 as cv\n",
    "import numpy as np\n",
    "import pandas as pd\n",
    "from sklearn.neighbors import KNeighborsClassifier\n",
    "from sklearn.model_selection import train_test_split"
   ]
  },
  {
   "cell_type": "markdown",
   "metadata": {},
   "source": [
    "#### Data Prep"
   ]
  },
  {
   "cell_type": "code",
   "execution_count": 2,
   "metadata": {},
   "outputs": [
    {
     "data": {
      "text/html": [
       "<div>\n",
       "<style scoped>\n",
       "    .dataframe tbody tr th:only-of-type {\n",
       "        vertical-align: middle;\n",
       "    }\n",
       "\n",
       "    .dataframe tbody tr th {\n",
       "        vertical-align: top;\n",
       "    }\n",
       "\n",
       "    .dataframe thead th {\n",
       "        text-align: right;\n",
       "    }\n",
       "</style>\n",
       "<table border=\"1\" class=\"dataframe\">\n",
       "  <thead>\n",
       "    <tr style=\"text-align: right;\">\n",
       "      <th></th>\n",
       "      <th>numbers</th>\n",
       "      <th>file_path</th>\n",
       "    </tr>\n",
       "  </thead>\n",
       "  <tbody>\n",
       "    <tr>\n",
       "      <th>0</th>\n",
       "      <td>0</td>\n",
       "      <td>media/kills_only/loop_00000.jpg</td>\n",
       "    </tr>\n",
       "    <tr>\n",
       "      <th>1</th>\n",
       "      <td>n</td>\n",
       "      <td>media/kills_only/loop_00001.jpg</td>\n",
       "    </tr>\n",
       "    <tr>\n",
       "      <th>2</th>\n",
       "      <td>2</td>\n",
       "      <td>media/kills_only/loop_00002.jpg</td>\n",
       "    </tr>\n",
       "    <tr>\n",
       "      <th>3</th>\n",
       "      <td>2</td>\n",
       "      <td>media/kills_only/loop_00003.jpg</td>\n",
       "    </tr>\n",
       "    <tr>\n",
       "      <th>4</th>\n",
       "      <td>2</td>\n",
       "      <td>media/kills_only/loop_00004.jpg</td>\n",
       "    </tr>\n",
       "    <tr>\n",
       "      <th>...</th>\n",
       "      <td>...</td>\n",
       "      <td>...</td>\n",
       "    </tr>\n",
       "    <tr>\n",
       "      <th>2109</th>\n",
       "      <td>n</td>\n",
       "      <td>media/kills_only/loop_02109.jpg</td>\n",
       "    </tr>\n",
       "    <tr>\n",
       "      <th>2110</th>\n",
       "      <td>n</td>\n",
       "      <td>media/kills_only/loop_02110.jpg</td>\n",
       "    </tr>\n",
       "    <tr>\n",
       "      <th>2111</th>\n",
       "      <td>n</td>\n",
       "      <td>media/kills_only/loop_02111.jpg</td>\n",
       "    </tr>\n",
       "    <tr>\n",
       "      <th>2112</th>\n",
       "      <td>n</td>\n",
       "      <td>media/kills_only/loop_02112.jpg</td>\n",
       "    </tr>\n",
       "    <tr>\n",
       "      <th>2113</th>\n",
       "      <td>e</td>\n",
       "      <td>media/kills_only/loop_02113.jpg</td>\n",
       "    </tr>\n",
       "  </tbody>\n",
       "</table>\n",
       "<p>2114 rows × 2 columns</p>\n",
       "</div>"
      ],
      "text/plain": [
       "     numbers                        file_path\n",
       "0          0  media/kills_only/loop_00000.jpg\n",
       "1          n  media/kills_only/loop_00001.jpg\n",
       "2          2  media/kills_only/loop_00002.jpg\n",
       "3          2  media/kills_only/loop_00003.jpg\n",
       "4          2  media/kills_only/loop_00004.jpg\n",
       "...      ...                              ...\n",
       "2109       n  media/kills_only/loop_02109.jpg\n",
       "2110       n  media/kills_only/loop_02110.jpg\n",
       "2111       n  media/kills_only/loop_02111.jpg\n",
       "2112       n  media/kills_only/loop_02112.jpg\n",
       "2113       e  media/kills_only/loop_02113.jpg\n",
       "\n",
       "[2114 rows x 2 columns]"
      ]
     },
     "execution_count": 2,
     "metadata": {},
     "output_type": "execute_result"
    }
   ],
   "source": [
    "df = pd.read_csv('numbers.csv')\n",
    "\n",
    "df"
   ]
  },
  {
   "cell_type": "markdown",
   "metadata": {},
   "source": [
    "Standardive and/or Remove 'null' values. Both improve accuracy a few %."
   ]
  },
  {
   "cell_type": "code",
   "execution_count": 3,
   "metadata": {},
   "outputs": [],
   "source": [
    "# helps a few %\n",
    "df.numbers.loc[df.numbers == 'n'] = ''\n",
    "df.numbers.loc[df.numbers == 'e'] = ''\n",
    "df.numbers.loc[df.numbers == 'b'] = ''\n",
    "\n",
    "# # maybe helps a little less than making them all the same\n",
    "# df = df.loc[df.numbers != 'n']\n",
    "# df = df.loc[df.numbers != 'e']\n",
    "# df = df.loc[df.numbers != 'b']\n",
    "\n",
    "# df.reset_index()\n",
    "\n",
    "# df.tail(3)"
   ]
  },
  {
   "cell_type": "markdown",
   "metadata": {},
   "source": [
    "Limit the number of samples from each possible outcome."
   ]
  },
  {
   "cell_type": "code",
   "execution_count": 4,
   "metadata": {},
   "outputs": [],
   "source": [
    "# temp_df = pd.DataFrame(columns=df.columns)\n",
    "\n",
    "# for u in df.numbers.unique():\n",
    "#     sample = df.loc[df.numbers==u].copy()\n",
    "#     if len(sample) > 50:\n",
    "#         sample = sample.sample(50)\n",
    "#     temp_df = pd.concat([temp_df, sample])\n",
    "\n",
    "# df = temp_df\n",
    "\n",
    "# df"
   ]
  },
  {
   "cell_type": "code",
   "execution_count": 5,
   "metadata": {},
   "outputs": [
    {
     "data": {
      "text/plain": [
       "5     250\n",
       "      249\n",
       "10    148\n",
       "12    141\n",
       "1     136\n",
       "6     130\n",
       "13    113\n",
       "11    107\n",
       "0      95\n",
       "2      85\n",
       "9      82\n",
       "14     67\n",
       "8      62\n",
       "16     61\n",
       "7      60\n",
       "15     59\n",
       "19     50\n",
       "4      37\n",
       "3      34\n",
       "20     28\n",
       "17     27\n",
       "22     26\n",
       "18     25\n",
       "21     14\n",
       "25      9\n",
       "23      7\n",
       "26      5\n",
       "27      4\n",
       "24      3\n",
       "Name: numbers, dtype: int64"
      ]
     },
     "execution_count": 5,
     "metadata": {},
     "output_type": "execute_result"
    }
   ],
   "source": [
    "df.numbers.value_counts()"
   ]
  },
  {
   "cell_type": "markdown",
   "metadata": {},
   "source": [
    "For `X`: Make list of lists, each holding an array (image) and its file path. `.flatten()` the arrays so they're 1D.\n",
    "\n",
    "For `y`: Target values are found in the `numbers columns`.\n",
    "\n",
    "After train/test splitting, split the file paths from the arrays (images) so we have an array of file paths and an array of arrays (images) for training and for testing (4 arrays total).\n",
    "\n",
    "The arrays of file paths (`train_file_paths`, `test_file_paths`) are of no use to our model, and are only recorded so that we can examine particular instances (e.g. to see an incorrectly predicted image)."
   ]
  },
  {
   "cell_type": "code",
   "execution_count": 6,
   "metadata": {},
   "outputs": [],
   "source": [
    "X = [[cv.imread(fp).flatten(), fp] for fp in df.file_path.values]\n",
    "y = df.numbers.values\n",
    "\n",
    "X_train, X_test, y_train, y_test = train_test_split(X, y, test_size=0.3)\n",
    "\n",
    "# keep file paths \n",
    "train_file_paths = np.array([fp for img, fp in X_train])\n",
    "test_file_paths = np.array([fp for img, fp in X_test])\n",
    "\n",
    "X_train = np.array([img for img, fp in X_train])\n",
    "X_test = np.array([img for img, fp in X_test])"
   ]
  },
  {
   "cell_type": "markdown",
   "metadata": {},
   "source": [
    "#### Create & Train Model\n",
    "And output an array of predictions (just to see what they look like)."
   ]
  },
  {
   "cell_type": "code",
   "execution_count": 7,
   "metadata": {},
   "outputs": [],
   "source": [
    "knn = KNeighborsClassifier(n_neighbors=1)"
   ]
  },
  {
   "cell_type": "code",
   "execution_count": 8,
   "metadata": {},
   "outputs": [
    {
     "data": {
      "text/plain": [
       "KNeighborsClassifier(n_neighbors=1)"
      ]
     },
     "execution_count": 8,
     "metadata": {},
     "output_type": "execute_result"
    }
   ],
   "source": [
    "knn.fit(X_train, y_train)"
   ]
  },
  {
   "cell_type": "code",
   "execution_count": 9,
   "metadata": {},
   "outputs": [
    {
     "data": {
      "text/plain": [
       "array(['5', '5', '6', '12', '', '12', '13', '', '12', '13', '13', '5',\n",
       "       '10', '13', '', '10', '16', '', '13', '', '6', '13', '8', '', '5',\n",
       "       '9', '12', '7', '6', '19', '5', '10', '0', '2', '15', '6', '2',\n",
       "       '17', '23', '7', '1', '5', '1', '5', '', '11', '13', '5', '9',\n",
       "       '19', '6', '', '1', '1', '', '19', '12', '10', '12', '0', '13',\n",
       "       '6', '16', '1', '13', '1', '14', '9', '20', '1', '10', '', '11',\n",
       "       '22', '5', '', '0', '', '10', '20', '18', '0', '7', '5', '10',\n",
       "       '10', '9', '5', '5', '4', '13', '', '', '0', '1', '6', '12', '2',\n",
       "       '12', '15', '4', '6', '8', '11', '5', '13', '2', '10', '15', '10',\n",
       "       '27', '8', '11', '20', '0', '19', '23', '1', '12', '10', '12', '7',\n",
       "       '20', '14', '6', '0', '', '2', '16', '12', '10', '14', '13', '10',\n",
       "       '14', '12', '9', '3', '19', '18', '19', '', '5', '14', '6', '',\n",
       "       '5', '18', '5', '16', '10', '6', '5', '6', '', '6', '5', '19',\n",
       "       '11', '5', '1', '5', '9', '5', '', '10', '', '5', '1', '8', '5',\n",
       "       '', '', '15', '5', '5', '11', '2', '27', '12', '22', '15', '1',\n",
       "       '16', '4', '6', '17', '25', '5', '0', '16', '4', '5', '5', '0',\n",
       "       '14', '9', '2', '', '1', '1', '9', '14', '16', '6', '10', '8', '',\n",
       "       '10', '0', '4', '13', '20', '6', '17', '12', '8', '4', '7', '1',\n",
       "       '', '12', '15', '13', '17', '0', '', '1', '8', '7', '18', '12',\n",
       "       '11', '12', '5', '10', '16', '1', '', '5', '0', '', '5', '8', '5',\n",
       "       '1', '11', '0', '3', '5', '0', '6', '8', '5', '11', '', '7', '19',\n",
       "       '4', '5', '9', '1', '18', '10', '7', '', '5', '12', '13', '12',\n",
       "       '9', '26', '8', '13', '13', '16', '7', '2', '1', '12', '8', '16',\n",
       "       '12', '5', '12', '12', '1', '2', '5', '15', '6', '16', '1', '4',\n",
       "       '4', '11', '0', '5', '', '4', '13', '5', '', '5', '12', '7', '6',\n",
       "       '10', '5', '5', '6', '12', '', '13', '13', '19', '13', '7', '5',\n",
       "       '6', '18', '1', '14', '2', '0', '1', '19', '9', '13', '1', '8', '',\n",
       "       '1', '12', '12', '19', '0', '10', '10', '13', '11', '17', '', '5',\n",
       "       '0', '5', '20', '5', '10', '14', '8', '12', '6', '18', '12', '',\n",
       "       '5', '22', '5', '22', '5', '5', '27', '2', '5', '5', '23', '11',\n",
       "       '5', '9', '12', '9', '18', '5', '0', '', '5', '', '2', '9', '1',\n",
       "       '6', '15', '11', '9', '', '11', '14', '9', '16', '16', '16', '11',\n",
       "       '', '1', '1', '13', '16', '', '9', '', '9', '0', '21', '8', '13',\n",
       "       '0', '12', '6', '22', '12', '', '2', '5', '', '9', '5', '13', '8',\n",
       "       '17', '5', '5', '14', '', '2', '', '10', '5', '0', '5', '9', '16',\n",
       "       '0', '3', '1', '13', '9', '', '', '9', '6', '5', '', '19', '', '',\n",
       "       '13', '12', '5', '6', '5', '6', '13', '2', '7', '7', '25', '14',\n",
       "       '3', '14', '10', '4', '13', '12', '', '', '', '7', '14', '19', '6',\n",
       "       '5', '6', '10', '6', '11', '11', '7', '16', '11', '5', '', '6',\n",
       "       '17', '12', '10', '15', '3', '25', '10', '6', '6', '10', '0', '12',\n",
       "       '12', '', '20', '6', '0', '8', '9', '', '', '11', '10', '9', '12',\n",
       "       '20', '26', '9', '9', '5', '6', '6', '14', '13', '16', '16', '14',\n",
       "       '9', '7', '20', '12', '12', '', '1', '19', '13', '11', '3', '13',\n",
       "       '12', '16', '', '8', '5', '17', '10', '1', '0', '10', '12', '15',\n",
       "       '', '11', '12', '13', '12', '21', '6', '6', '16', '6', '19', '1',\n",
       "       '6', '1', '5', '1', '18', '3', '10', '3', '', '4', '9', '5', '14',\n",
       "       '', '18', '2', '6', '13', '5', '4', '5', '1', '22', '', '11', '10',\n",
       "       '1', '20', '16', '0', '21', '', '13', '3', '5', '1', '10', '13',\n",
       "       '15', '4', '5', '9', '11', '2', '13', '1', '7', '20', '9', '12',\n",
       "       '12', '1', '6', '0', '', '8', '12', '4', '14', '5', '', '8', '',\n",
       "       '13', '2', '17', '', '4', '20', '3', '1', '6', '10', '', '9', '5',\n",
       "       '3', '', '13'], dtype=object)"
      ]
     },
     "execution_count": 9,
     "metadata": {},
     "output_type": "execute_result"
    }
   ],
   "source": [
    "knn.predict(X_test)"
   ]
  },
  {
   "cell_type": "markdown",
   "metadata": {},
   "source": [
    "#### Score Model"
   ]
  },
  {
   "cell_type": "code",
   "execution_count": 10,
   "metadata": {},
   "outputs": [
    {
     "name": "stdout",
     "output_type": "stream",
     "text": [
      "n_correct: 559\n",
      "n_possible: 635\n",
      "% correct: 88.03149606299212%\n"
     ]
    }
   ],
   "source": [
    "preds = knn.predict(X_test)\n",
    "\n",
    "n_correct = np.sum(preds == y_test)\n",
    "n_possible = len(y_test)\n",
    "print(f'n_correct: {n_correct}\\nn_possible: {n_possible}\\n% correct: {n_correct/n_possible*100}%')"
   ]
  },
  {
   "cell_type": "markdown",
   "metadata": {},
   "source": [
    "#### Current \n",
    "- 2114 rows, k=1, test_size=0.3, % correct (7 runs avg): 88.008998875%\n",
    "\n",
    "\n",
    "#### Previous Scores\n",
    "- Week of 31 August 2020\n",
    "    - 1740 rows, k=1, test_size=0.2, % correct: 89.65517241379311%\n",
    "    - 2114 rows, k=1, test_size=0.2, % correct: 88.88888888888889%\n",
    "    - 2114 rows, k=2, test_size=0.2, % correct: 88.65248226950354%\n",
    "    - 2114 rows, k=3, test_size=100, % correct: 94.0% (one off, more range variation than above, higher highs, lower lows)\n",
    "    - 2114 rows, k=1, test_size=100, % correct: 91.0% (consistent, some variation ranging 84-93%)\n",
    "\n",
    "#### Goal Score (30 September 2020)\n",
    "- n rows, k=k, test_size=test_size, % correct: 98.1%+\n",
    "\n",
    "#### Goal Deployed Score (31 October 2020)\n",
    "- n rows, k=k, test_size=live_feed, % correct: 95.1%+"
   ]
  },
  {
   "cell_type": "markdown",
   "metadata": {},
   "source": [
    "## What's wrong? Predicted v Actual\n",
    "Incorrect predictions on the left, actual values (labels) on the right. (Assumes labels are correct.)"
   ]
  },
  {
   "cell_type": "code",
   "execution_count": 11,
   "metadata": {},
   "outputs": [
    {
     "data": {
      "text/html": [
       "<div>\n",
       "<style scoped>\n",
       "    .dataframe tbody tr th:only-of-type {\n",
       "        vertical-align: middle;\n",
       "    }\n",
       "\n",
       "    .dataframe tbody tr th {\n",
       "        vertical-align: top;\n",
       "    }\n",
       "\n",
       "    .dataframe thead th {\n",
       "        text-align: right;\n",
       "    }\n",
       "</style>\n",
       "<table border=\"1\" class=\"dataframe\">\n",
       "  <thead>\n",
       "    <tr style=\"text-align: right;\">\n",
       "      <th></th>\n",
       "      <th>predicted</th>\n",
       "      <th>actual</th>\n",
       "      <th>reference_file</th>\n",
       "    </tr>\n",
       "  </thead>\n",
       "  <tbody>\n",
       "    <tr>\n",
       "      <th>633</th>\n",
       "      <td></td>\n",
       "      <td></td>\n",
       "      <td>media/kills_only/loop_01064.jpg</td>\n",
       "    </tr>\n",
       "    <tr>\n",
       "      <th>634</th>\n",
       "      <td>13</td>\n",
       "      <td>13</td>\n",
       "      <td>media/kills_only/loop_00996.jpg</td>\n",
       "    </tr>\n",
       "  </tbody>\n",
       "</table>\n",
       "</div>"
      ],
      "text/plain": [
       "    predicted actual                   reference_file\n",
       "633                   media/kills_only/loop_01064.jpg\n",
       "634        13     13  media/kills_only/loop_00996.jpg"
      ]
     },
     "execution_count": 11,
     "metadata": {},
     "output_type": "execute_result"
    }
   ],
   "source": [
    "comp_df = pd.DataFrame()\n",
    "\n",
    "comp_df['predicted'] = preds\n",
    "comp_df['actual'] = y_test\n",
    "comp_df['reference_file'] = test_file_paths\n",
    "\n",
    "comp_df.tail(2)"
   ]
  },
  {
   "cell_type": "code",
   "execution_count": 12,
   "metadata": {},
   "outputs": [
    {
     "data": {
      "text/html": [
       "<div>\n",
       "<style scoped>\n",
       "    .dataframe tbody tr th:only-of-type {\n",
       "        vertical-align: middle;\n",
       "    }\n",
       "\n",
       "    .dataframe tbody tr th {\n",
       "        vertical-align: top;\n",
       "    }\n",
       "\n",
       "    .dataframe thead th {\n",
       "        text-align: right;\n",
       "    }\n",
       "</style>\n",
       "<table border=\"1\" class=\"dataframe\">\n",
       "  <thead>\n",
       "    <tr style=\"text-align: right;\">\n",
       "      <th></th>\n",
       "      <th>predicted</th>\n",
       "      <th>actual</th>\n",
       "      <th>reference_file</th>\n",
       "    </tr>\n",
       "  </thead>\n",
       "  <tbody>\n",
       "    <tr>\n",
       "      <th>9</th>\n",
       "      <td>13</td>\n",
       "      <td>22</td>\n",
       "      <td>media/kills_only/loop_01869.jpg</td>\n",
       "    </tr>\n",
       "    <tr>\n",
       "      <th>10</th>\n",
       "      <td>13</td>\n",
       "      <td>14</td>\n",
       "      <td>media/kills_only/loop_01829.jpg</td>\n",
       "    </tr>\n",
       "    <tr>\n",
       "      <th>11</th>\n",
       "      <td>5</td>\n",
       "      <td></td>\n",
       "      <td>media/kills_only/loop_01349.jpg</td>\n",
       "    </tr>\n",
       "    <tr>\n",
       "      <th>18</th>\n",
       "      <td>13</td>\n",
       "      <td>19</td>\n",
       "      <td>media/kills_only/loop_01865.jpg</td>\n",
       "    </tr>\n",
       "    <tr>\n",
       "      <th>31</th>\n",
       "      <td>10</td>\n",
       "      <td>16</td>\n",
       "      <td>media/kills_only/loop_01842.jpg</td>\n",
       "    </tr>\n",
       "    <tr>\n",
       "      <th>...</th>\n",
       "      <td>...</td>\n",
       "      <td>...</td>\n",
       "      <td>...</td>\n",
       "    </tr>\n",
       "    <tr>\n",
       "      <th>592</th>\n",
       "      <td>10</td>\n",
       "      <td>13</td>\n",
       "      <td>media/kills_only/loop_01440.jpg</td>\n",
       "    </tr>\n",
       "    <tr>\n",
       "      <th>600</th>\n",
       "      <td>13</td>\n",
       "      <td>14</td>\n",
       "      <td>media/kills_only/loop_01827.jpg</td>\n",
       "    </tr>\n",
       "    <tr>\n",
       "      <th>601</th>\n",
       "      <td>1</td>\n",
       "      <td></td>\n",
       "      <td>media/kills_only/loop_00431.jpg</td>\n",
       "    </tr>\n",
       "    <tr>\n",
       "      <th>607</th>\n",
       "      <td>1</td>\n",
       "      <td>2</td>\n",
       "      <td>media/kills_only/loop_01246.jpg</td>\n",
       "    </tr>\n",
       "    <tr>\n",
       "      <th>614</th>\n",
       "      <td>14</td>\n",
       "      <td>18</td>\n",
       "      <td>media/kills_only/loop_01625.jpg</td>\n",
       "    </tr>\n",
       "  </tbody>\n",
       "</table>\n",
       "<p>76 rows × 3 columns</p>\n",
       "</div>"
      ],
      "text/plain": [
       "    predicted actual                   reference_file\n",
       "9          13     22  media/kills_only/loop_01869.jpg\n",
       "10         13     14  media/kills_only/loop_01829.jpg\n",
       "11          5         media/kills_only/loop_01349.jpg\n",
       "18         13     19  media/kills_only/loop_01865.jpg\n",
       "31         10     16  media/kills_only/loop_01842.jpg\n",
       "..        ...    ...                              ...\n",
       "592        10     13  media/kills_only/loop_01440.jpg\n",
       "600        13     14  media/kills_only/loop_01827.jpg\n",
       "601         1         media/kills_only/loop_00431.jpg\n",
       "607         1      2  media/kills_only/loop_01246.jpg\n",
       "614        14     18  media/kills_only/loop_01625.jpg\n",
       "\n",
       "[76 rows x 3 columns]"
      ]
     },
     "execution_count": 12,
     "metadata": {},
     "output_type": "execute_result"
    }
   ],
   "source": [
    "comp_df.loc[comp_df.predicted != comp_df.actual]"
   ]
  }
 ],
 "metadata": {
  "kernelspec": {
   "display_name": "Python 3",
   "language": "python",
   "name": "python3"
  },
  "language_info": {
   "codemirror_mode": {
    "name": "ipython",
    "version": 3
   },
   "file_extension": ".py",
   "mimetype": "text/x-python",
   "name": "python",
   "nbconvert_exporter": "python",
   "pygments_lexer": "ipython3",
   "version": "3.7.7"
  }
 },
 "nbformat": 4,
 "nbformat_minor": 4
}
