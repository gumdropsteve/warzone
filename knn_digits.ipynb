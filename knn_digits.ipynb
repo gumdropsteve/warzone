{
 "cells": [
  {
   "cell_type": "markdown",
   "metadata": {},
   "source": [
    "# KNN Digits\n",
    "Implementing a simple KNN to classify digits."
   ]
  },
  {
   "cell_type": "code",
   "execution_count": 1,
   "metadata": {},
   "outputs": [],
   "source": [
    "import cv2 as cv\n",
    "import numpy as np\n",
    "import pandas as pd\n",
    "from sklearn.neighbors import KNeighborsClassifier\n",
    "from sklearn.model_selection import train_test_split"
   ]
  },
  {
   "cell_type": "markdown",
   "metadata": {},
   "source": [
    "#### Data Prep"
   ]
  },
  {
   "cell_type": "code",
   "execution_count": 2,
   "metadata": {},
   "outputs": [
    {
     "data": {
      "text/html": [
       "<div>\n",
       "<style scoped>\n",
       "    .dataframe tbody tr th:only-of-type {\n",
       "        vertical-align: middle;\n",
       "    }\n",
       "\n",
       "    .dataframe tbody tr th {\n",
       "        vertical-align: top;\n",
       "    }\n",
       "\n",
       "    .dataframe thead th {\n",
       "        text-align: right;\n",
       "    }\n",
       "</style>\n",
       "<table border=\"1\" class=\"dataframe\">\n",
       "  <thead>\n",
       "    <tr style=\"text-align: right;\">\n",
       "      <th></th>\n",
       "      <th>numbers</th>\n",
       "      <th>file_path</th>\n",
       "    </tr>\n",
       "  </thead>\n",
       "  <tbody>\n",
       "    <tr>\n",
       "      <th>1401</th>\n",
       "      <td>11</td>\n",
       "      <td>media/kills_only/loop_01401.jpg</td>\n",
       "    </tr>\n",
       "    <tr>\n",
       "      <th>1402</th>\n",
       "      <td>19</td>\n",
       "      <td>media/kills_only/loop_01402.jpg</td>\n",
       "    </tr>\n",
       "    <tr>\n",
       "      <th>1403</th>\n",
       "      <td>19</td>\n",
       "      <td>media/kills_only/loop_01403.jpg</td>\n",
       "    </tr>\n",
       "  </tbody>\n",
       "</table>\n",
       "</div>"
      ],
      "text/plain": [
       "     numbers                        file_path\n",
       "1401      11  media/kills_only/loop_01401.jpg\n",
       "1402      19  media/kills_only/loop_01402.jpg\n",
       "1403      19  media/kills_only/loop_01403.jpg"
      ]
     },
     "execution_count": 2,
     "metadata": {},
     "output_type": "execute_result"
    }
   ],
   "source": [
    "df = pd.read_csv('numbers.csv')\n",
    "\n",
    "df.tail(3)"
   ]
  },
  {
   "cell_type": "markdown",
   "metadata": {},
   "source": [
    "Remove 'null' values. This improves accuracy a few %."
   ]
  },
  {
   "cell_type": "code",
   "execution_count": 3,
   "metadata": {},
   "outputs": [
    {
     "data": {
      "text/html": [
       "<div>\n",
       "<style scoped>\n",
       "    .dataframe tbody tr th:only-of-type {\n",
       "        vertical-align: middle;\n",
       "    }\n",
       "\n",
       "    .dataframe tbody tr th {\n",
       "        vertical-align: top;\n",
       "    }\n",
       "\n",
       "    .dataframe thead th {\n",
       "        text-align: right;\n",
       "    }\n",
       "</style>\n",
       "<table border=\"1\" class=\"dataframe\">\n",
       "  <thead>\n",
       "    <tr style=\"text-align: right;\">\n",
       "      <th></th>\n",
       "      <th>index</th>\n",
       "      <th>numbers</th>\n",
       "      <th>file_path</th>\n",
       "    </tr>\n",
       "  </thead>\n",
       "  <tbody>\n",
       "    <tr>\n",
       "      <th>1197</th>\n",
       "      <td>1401</td>\n",
       "      <td>11</td>\n",
       "      <td>media/kills_only/loop_01401.jpg</td>\n",
       "    </tr>\n",
       "    <tr>\n",
       "      <th>1198</th>\n",
       "      <td>1402</td>\n",
       "      <td>19</td>\n",
       "      <td>media/kills_only/loop_01402.jpg</td>\n",
       "    </tr>\n",
       "    <tr>\n",
       "      <th>1199</th>\n",
       "      <td>1403</td>\n",
       "      <td>19</td>\n",
       "      <td>media/kills_only/loop_01403.jpg</td>\n",
       "    </tr>\n",
       "  </tbody>\n",
       "</table>\n",
       "</div>"
      ],
      "text/plain": [
       "      index numbers                        file_path\n",
       "1197   1401      11  media/kills_only/loop_01401.jpg\n",
       "1198   1402      19  media/kills_only/loop_01402.jpg\n",
       "1199   1403      19  media/kills_only/loop_01403.jpg"
      ]
     },
     "execution_count": 3,
     "metadata": {},
     "output_type": "execute_result"
    }
   ],
   "source": [
    "df = df.loc[df.numbers != 'n']\n",
    "df = df.loc[df.numbers != 'e']\n",
    "df = df.loc[df.numbers != 'b']\n",
    "\n",
    "df = df.reset_index()\n",
    "\n",
    "df.tail(3)"
   ]
  },
  {
   "cell_type": "markdown",
   "metadata": {},
   "source": [
    "Make list of arrays of images. `.flatten()` them so they're 1D."
   ]
  },
  {
   "cell_type": "code",
   "execution_count": 4,
   "metadata": {},
   "outputs": [],
   "source": [
    "X = [cv.imread(fp).flatten() for fp in df.file_path.values]\n",
    "y = df.numbers.values\n",
    "\n",
    "X_train, X_test, y_train, y_test = train_test_split(X, y, train_size=0.8)"
   ]
  },
  {
   "cell_type": "markdown",
   "metadata": {},
   "source": [
    "#### Create & Train Model\n",
    "And output an array of predictions (just to see what they look like)."
   ]
  },
  {
   "cell_type": "code",
   "execution_count": 5,
   "metadata": {},
   "outputs": [],
   "source": [
    "knn = KNeighborsClassifier(n_neighbors=3)"
   ]
  },
  {
   "cell_type": "code",
   "execution_count": 6,
   "metadata": {},
   "outputs": [
    {
     "data": {
      "text/plain": [
       "KNeighborsClassifier(n_neighbors=3)"
      ]
     },
     "execution_count": 6,
     "metadata": {},
     "output_type": "execute_result"
    }
   ],
   "source": [
    "knn.fit(X_train, y_train)"
   ]
  },
  {
   "cell_type": "code",
   "execution_count": 7,
   "metadata": {},
   "outputs": [
    {
     "data": {
      "text/plain": [
       "array(['6', '5', '11', '6', '3', '5', '1', '2', '11', '10', '14', '12',\n",
       "       '11', '6', '11', '11', '12', '4', '8', '12', '1', '1', '11', '5',\n",
       "       '9', '6', '12', '6', '12', '10', '10', '1', '7', '4', '2', '11',\n",
       "       '9', '9', '17', '10', '9', '8', '1', '10', '14', '8', '13', '6',\n",
       "       '11', '7', '13', '2', '0', '9', '10', '10', '0', '1', '12', '8',\n",
       "       '13', '6', '10', '5', '10', '7', '11', '5', '10', '9', '8', '5',\n",
       "       '6', '6', '10', '9', '6', '6', '0', '12', '11', '11', '11', '10',\n",
       "       '6', '10', '9', '4', '6', '0', '11', '10', '10', '5', '6', '10',\n",
       "       '5', '6', '1', '1', '11', '6', '10', '5', '1', '0', '10', '1', '6',\n",
       "       '12', '1', '11', '4', '8', '10', '6', '9', '0', '9', '13', '2',\n",
       "       '1', '14', '10', '12', '0', '12', '5', '5', '6', '10', '1', '10',\n",
       "       '9', '3', '3', '11', '0', '3', '1', '9', '9', '7', '12', '11',\n",
       "       '10', '7', '0', '10', '5', '13', '1', '1', '5', '11', '1', '13',\n",
       "       '2', '0', '9', '14', '10', '5', '2', '9', '11', '3', '8', '0', '6',\n",
       "       '6', '2', '0', '6', '3', '10', '2', '6', '6', '1', '10', '3', '1',\n",
       "       '9', '5', '5', '7', '7', '6', '0', '10', '9', '9', '7', '11', '13',\n",
       "       '10', '4', '5', '11', '1', '7', '5', '0', '12', '1', '0', '5',\n",
       "       '12', '0', '11', '12', '5', '5', '1', '0', '12', '6', '6', '10',\n",
       "       '0', '10', '7', '3', '5', '12', '4', '6', '0', '10', '9', '10',\n",
       "       '11', '1', '0', '6', '12', '7', '5', '0'], dtype=object)"
      ]
     },
     "execution_count": 7,
     "metadata": {},
     "output_type": "execute_result"
    }
   ],
   "source": [
    "knn.predict(X_test)"
   ]
  },
  {
   "cell_type": "markdown",
   "metadata": {},
   "source": [
    "#### Score Model"
   ]
  },
  {
   "cell_type": "code",
   "execution_count": 8,
   "metadata": {},
   "outputs": [
    {
     "name": "stdout",
     "output_type": "stream",
     "text": [
      "n_correct: 220\n",
      "n_possible: 240\n",
      "% correct: 91.66666666666666%\n"
     ]
    }
   ],
   "source": [
    "preds = knn.predict(X_test)\n",
    "\n",
    "n_correct = np.sum(preds == y_test)\n",
    "n_possible = len(y_test)\n",
    "\n",
    "print(f'n_correct: {n_correct}\\nn_possible: {n_possible}\\n% correct: {n_correct/n_possible*100}%')"
   ]
  },
  {
   "cell_type": "markdown",
   "metadata": {},
   "source": [
    "## What's wrong? Predicted v Actual\n",
    "Incorrect predictions on the left, actual values (labels) on the right. (Assumes labels are correct.)"
   ]
  },
  {
   "cell_type": "code",
   "execution_count": 9,
   "metadata": {},
   "outputs": [
    {
     "name": "stdout",
     "output_type": "stream",
     "text": [
      "11 21\n",
      "\n",
      "12 11\n",
      "\n",
      "1 10\n",
      "\n",
      "10 12\n",
      "\n",
      "6 5\n",
      "\n",
      "10 18\n",
      "\n",
      "6 0\n",
      "\n",
      "10 11\n",
      "\n",
      "0 6\n",
      "\n",
      "5 6\n",
      "\n",
      "6 0\n",
      "\n",
      "1 10\n",
      "\n",
      "0 7\n",
      "\n",
      "0 9\n",
      "\n",
      "10 12\n",
      "\n",
      "1 5\n",
      "\n",
      "9 0\n",
      "\n",
      "0 6\n",
      "\n",
      "0 2\n",
      "\n",
      "0 1\n",
      "\n"
     ]
    }
   ],
   "source": [
    "for i in range(len(preds)):\n",
    "    if preds[i] != y_test[i]:\n",
    "        print(preds[i], y_test[i])\n",
    "        print()"
   ]
  }
 ],
 "metadata": {
  "kernelspec": {
   "display_name": "Python 3",
   "language": "python",
   "name": "python3"
  },
  "language_info": {
   "codemirror_mode": {
    "name": "ipython",
    "version": 3
   },
   "file_extension": ".py",
   "mimetype": "text/x-python",
   "name": "python",
   "nbconvert_exporter": "python",
   "pygments_lexer": "ipython3",
   "version": "3.7.7"
  }
 },
 "nbformat": 4,
 "nbformat_minor": 4
}
