{
 "cells": [
  {
   "cell_type": "markdown",
   "metadata": {},
   "source": [
    "# KNN Digits\n",
    "Implementing a simple KNN to classify digits."
   ]
  },
  {
   "cell_type": "code",
   "execution_count": 1,
   "metadata": {},
   "outputs": [],
   "source": [
    "import cv2 as cv\n",
    "from PIL import Image\n",
    "import numpy as np\n",
    "import pandas as pd\n",
    "from sklearn.neighbors import KNeighborsClassifier\n",
    "from sklearn.model_selection import train_test_split"
   ]
  },
  {
   "cell_type": "markdown",
   "metadata": {},
   "source": [
    "#### Data Prep"
   ]
  },
  {
   "cell_type": "code",
   "execution_count": 2,
   "metadata": {},
   "outputs": [
    {
     "data": {
      "text/html": [
       "<div>\n",
       "<style scoped>\n",
       "    .dataframe tbody tr th:only-of-type {\n",
       "        vertical-align: middle;\n",
       "    }\n",
       "\n",
       "    .dataframe tbody tr th {\n",
       "        vertical-align: top;\n",
       "    }\n",
       "\n",
       "    .dataframe thead th {\n",
       "        text-align: right;\n",
       "    }\n",
       "</style>\n",
       "<table border=\"1\" class=\"dataframe\">\n",
       "  <thead>\n",
       "    <tr style=\"text-align: right;\">\n",
       "      <th></th>\n",
       "      <th>numbers</th>\n",
       "      <th>file_path</th>\n",
       "    </tr>\n",
       "  </thead>\n",
       "  <tbody>\n",
       "    <tr>\n",
       "      <th>0</th>\n",
       "      <td>0</td>\n",
       "      <td>media/kills_only/loop_00000.jpg</td>\n",
       "    </tr>\n",
       "    <tr>\n",
       "      <th>1</th>\n",
       "      <td>n</td>\n",
       "      <td>media/kills_only/loop_00001.jpg</td>\n",
       "    </tr>\n",
       "    <tr>\n",
       "      <th>2</th>\n",
       "      <td>2</td>\n",
       "      <td>media/kills_only/loop_00002.jpg</td>\n",
       "    </tr>\n",
       "    <tr>\n",
       "      <th>3</th>\n",
       "      <td>2</td>\n",
       "      <td>media/kills_only/loop_00003.jpg</td>\n",
       "    </tr>\n",
       "    <tr>\n",
       "      <th>4</th>\n",
       "      <td>2</td>\n",
       "      <td>media/kills_only/loop_00004.jpg</td>\n",
       "    </tr>\n",
       "    <tr>\n",
       "      <th>...</th>\n",
       "      <td>...</td>\n",
       "      <td>...</td>\n",
       "    </tr>\n",
       "    <tr>\n",
       "      <th>7987</th>\n",
       "      <td>i148</td>\n",
       "      <td>media/digits_only/loop_04686pr.jpg</td>\n",
       "    </tr>\n",
       "    <tr>\n",
       "      <th>7988</th>\n",
       "      <td>0</td>\n",
       "      <td>media/digits_only/loop_04687k.jpg</td>\n",
       "    </tr>\n",
       "    <tr>\n",
       "      <th>7989</th>\n",
       "      <td>i148</td>\n",
       "      <td>media/digits_only/loop_04687pr.jpg</td>\n",
       "    </tr>\n",
       "    <tr>\n",
       "      <th>7990</th>\n",
       "      <td>0</td>\n",
       "      <td>media/digits_only/loop_04688k.jpg</td>\n",
       "    </tr>\n",
       "    <tr>\n",
       "      <th>7991</th>\n",
       "      <td>147</td>\n",
       "      <td>media/digits_only/loop_04688pr.jpg</td>\n",
       "    </tr>\n",
       "  </tbody>\n",
       "</table>\n",
       "<p>7992 rows × 2 columns</p>\n",
       "</div>"
      ],
      "text/plain": [
       "     numbers                           file_path\n",
       "0          0     media/kills_only/loop_00000.jpg\n",
       "1          n     media/kills_only/loop_00001.jpg\n",
       "2          2     media/kills_only/loop_00002.jpg\n",
       "3          2     media/kills_only/loop_00003.jpg\n",
       "4          2     media/kills_only/loop_00004.jpg\n",
       "...      ...                                 ...\n",
       "7987    i148  media/digits_only/loop_04686pr.jpg\n",
       "7988       0   media/digits_only/loop_04687k.jpg\n",
       "7989    i148  media/digits_only/loop_04687pr.jpg\n",
       "7990       0   media/digits_only/loop_04688k.jpg\n",
       "7991     147  media/digits_only/loop_04688pr.jpg\n",
       "\n",
       "[7992 rows x 2 columns]"
      ]
     },
     "execution_count": 2,
     "metadata": {},
     "output_type": "execute_result"
    }
   ],
   "source": [
    "df_28x28 = pd.read_csv('numbers.csv')\n",
    "df_38x28 = pd.read_csv('digits_only_numbers.csv')\n",
    "\n",
    "df = pd.concat([df_28x28, df_38x28], ignore_index=True)\n",
    "df"
   ]
  },
  {
   "cell_type": "markdown",
   "metadata": {},
   "source": [
    "Standardive and/or Remove 'null' values. Both improve accuracy a few %.reset_index"
   ]
  },
  {
   "cell_type": "code",
   "execution_count": 3,
   "metadata": {},
   "outputs": [],
   "source": [
    "# helps a few %\n",
    "df.numbers.loc[df.numbers == 'n'] = ''\n",
    "df.numbers.loc[df.numbers == 'e'] = ''\n",
    "df.numbers.loc[df.numbers == 'b'] = ''\n",
    "\n",
    "# # maybe helps a little less than making them all the same\n",
    "# df = df.loc[df.numbers != 'n']\n",
    "# df = df.loc[df.numbers != 'e']\n",
    "# df = df.loc[df.numbers != 'b']\n",
    "\n",
    "# df.reset_index()\n",
    "\n",
    "# df.tail(3)"
   ]
  },
  {
   "cell_type": "markdown",
   "metadata": {},
   "source": [
    "Limit the number of samples from each possible outcome."
   ]
  },
  {
   "cell_type": "code",
   "execution_count": 4,
   "metadata": {},
   "outputs": [],
   "source": [
    "# temp_df = pd.DataFrame(columns=df.columns)\n",
    "\n",
    "# for u in df.numbers.unique():\n",
    "#     sample = df.loc[df.numbers==u].copy()\n",
    "#     if len(sample) > 50:\n",
    "#         sample = sample.sample(50)\n",
    "#     temp_df = pd.concat([temp_df, sample])\n",
    "\n",
    "# df = temp_df\n",
    "\n",
    "# df"
   ]
  },
  {
   "cell_type": "markdown",
   "metadata": {},
   "source": [
    "#### What target values are in the dataset?"
   ]
  },
  {
   "cell_type": "code",
   "execution_count": 5,
   "metadata": {},
   "outputs": [
    {
     "data": {
      "text/plain": [
       "(194,\n",
       " array(['0', '', '2', '3', '4', '1', '21', '5', '6', '8', '7', '9', '10',\n",
       "        '11', '12', '14', '15', '16', '13', '17', '18', '19', '24', '27',\n",
       "        '20', '22', '23', '25', '26', '61', '59', '60', '56', '50', '49',\n",
       "        '47', '39', '37', '36', '35', '33', '32', '29', '28', '30', '142',\n",
       "        '139', '138', '133', '132', '130', '129', '128', '126', '122',\n",
       "        '121', '120', '119', '118', '117', '116', '115', '114', '113',\n",
       "        '112', '110', '106', '105', '104', '102', '101', '100', '93', '89',\n",
       "        '86', '79', '76', '73', '71', '65', '64', '55', '45', '43', '42',\n",
       "        '40', '38', '34', '75', '58', '57', '54', '51', '48', '46', '44',\n",
       "        '41', 'r', '00', '83', '81', '80', '74', '72', '68', '123', '96',\n",
       "        '95', '94', '91', '88', '87', '85', '84', '82', '78', '77', '67',\n",
       "        '66', '63', '62', '53', '52', 'b6', 'b16', '150', '148', '147',\n",
       "        '92', '90', '144', '143', '140', '136', '135', '131', '127', '111',\n",
       "        '109', '97', '70', '69', '134', '125', '124', '108', '107', '103',\n",
       "        'i146', '146', 'i145', '145', 'i144', '141', 'i112', '99', '98',\n",
       "        'i73', 'i72', 'i69', 'i44', 'i39', 'i38', 'i36', 'i35', 'i31',\n",
       "        '31', 'i30', 'i29', 'i28', 'i27', 'i26', 'i25', 'i21', 'i143',\n",
       "        'i138', 'i136', 'i133', 'i129', 'i119', 'i110', 'i107', 'i104',\n",
       "        'i102', 'i94', 'i85', 'i83', 'i79', 'i37', 'i34', '158', 'i150',\n",
       "        '159', 'i148'], dtype=object))"
      ]
     },
     "execution_count": 5,
     "metadata": {},
     "output_type": "execute_result"
    }
   ],
   "source": [
    "len(df.numbers.unique()), df.numbers.unique()"
   ]
  },
  {
   "cell_type": "code",
   "execution_count": 6,
   "metadata": {},
   "outputs": [
    {
     "data": {
      "text/plain": [
       "(152,)"
      ]
     },
     "execution_count": 6,
     "metadata": {},
     "output_type": "execute_result"
    }
   ],
   "source": [
    "actual_numbers = []\n",
    "for un in df.numbers.unique():\n",
    "    try:\n",
    "        actual_numbers.append(int(un))\n",
    "    except:\n",
    "        pass\n",
    "    \n",
    "len(actual_numbers), #sorted(actual_numbers)"
   ]
  },
  {
   "cell_type": "code",
   "execution_count": 7,
   "metadata": {},
   "outputs": [
    {
     "name": "stdout",
     "output_type": "stream",
     "text": [
      "137\n",
      "149\n"
     ]
    }
   ],
   "source": [
    "for i in range(151):\n",
    "    if i not in sorted(actual_numbers):\n",
    "        print(i)"
   ]
  },
  {
   "cell_type": "code",
   "execution_count": 8,
   "metadata": {},
   "outputs": [
    {
     "data": {
      "text/plain": [
       "      640\n",
       "0     416\n",
       "10    376\n",
       "1     356\n",
       "5     316\n",
       "11    309\n",
       "12    268\n",
       "4     268\n",
       "16    258\n",
       "2     247\n",
       "Name: numbers, dtype: int64"
      ]
     },
     "execution_count": 8,
     "metadata": {},
     "output_type": "execute_result"
    }
   ],
   "source": [
    "df.numbers.value_counts()[:10]"
   ]
  },
  {
   "cell_type": "code",
   "execution_count": 9,
   "metadata": {},
   "outputs": [
    {
     "data": {
      "text/plain": [
       "8     241\n",
       "6     240\n",
       "3     236\n",
       "9     229\n",
       "15    211\n",
       "14    197\n",
       "19    157\n",
       "7     156\n",
       "13    140\n",
       "20    135\n",
       "18    117\n",
       "17    102\n",
       "23     75\n",
       "34     62\n",
       "28     61\n",
       "22     58\n",
       "35     57\n",
       "38     56\n",
       "29     53\n",
       "21     46\n",
       "Name: numbers, dtype: int64"
      ]
     },
     "execution_count": 9,
     "metadata": {},
     "output_type": "execute_result"
    }
   ],
   "source": [
    "df.numbers.value_counts()[10:30]"
   ]
  },
  {
   "cell_type": "code",
   "execution_count": 10,
   "metadata": {},
   "outputs": [
    {
     "data": {
      "text/plain": [
       "56      44\n",
       "139     43\n",
       "59      42\n",
       "24      42\n",
       "49      42\n",
       "        ..\n",
       "i107     1\n",
       "98       1\n",
       "i83      1\n",
       "r        1\n",
       "i119     1\n",
       "Name: numbers, Length: 164, dtype: int64"
      ]
     },
     "execution_count": 10,
     "metadata": {},
     "output_type": "execute_result"
    }
   ],
   "source": [
    "df.numbers.value_counts()[30:]"
   ]
  },
  {
   "cell_type": "markdown",
   "metadata": {},
   "source": [
    "For `X`: Make list of lists, each holding an array (image) and its file path. `.flatten()` the arrays so they're 1D.\n",
    "\n",
    "For `y`: Target values are found in the `numbers columns`.\n",
    "\n",
    "After train/test splitting, split the file paths from the arrays (images) so we have an array of file paths and an array of arrays (images) for training and for testing (4 arrays total).\n",
    "\n",
    "The arrays of file paths (`train_file_paths`, `test_file_paths`) are of no use to our model, and are only recorded so that we can examine particular instances (e.g. to see an incorrectly predicted image)."
   ]
  },
  {
   "cell_type": "code",
   "execution_count": 11,
   "metadata": {},
   "outputs": [],
   "source": [
    "X = [[cv.imread(fp).flatten(), fp] if Image.open(fp).size==(38, 28) else [np.array(Image.open(fp).crop((0-3, 0, 28+7, 28))).flatten(), fp] for fp in df.file_path.values]\n",
    "y = df.numbers.values\n",
    "\n",
    "X_train, X_test, y_train, y_test = train_test_split(X, y, test_size=0.3)\n",
    "\n",
    "# keep file paths \n",
    "train_file_paths = np.array([fp for img, fp in X_train])\n",
    "test_file_paths = np.array([fp for img, fp in X_test])\n",
    "\n",
    "X_train = np.array([img for img, fp in X_train])\n",
    "X_test = np.array([img for img, fp in X_test])"
   ]
  },
  {
   "cell_type": "markdown",
   "metadata": {},
   "source": [
    "#### Top 5 Target Values in Train, then Test"
   ]
  },
  {
   "cell_type": "code",
   "execution_count": 12,
   "metadata": {},
   "outputs": [
    {
     "name": "stdout",
     "output_type": "stream",
     "text": [
      "Top 5 Target Values (Train)\n",
      "      440\n",
      "0     292\n",
      "10    284\n",
      "1     246\n",
      "11    210\n",
      "dtype: int64\n",
      "\n",
      "Top 5 Target Values (Test)\n",
      "      200\n",
      "0     124\n",
      "1     110\n",
      "5     106\n",
      "11     99\n",
      "dtype: int64\n"
     ]
    }
   ],
   "source": [
    "print(f'Top 5 Target Values (Train)\\n{pd.Series(y_train).value_counts()[:5]}\\n\\nTop 5 Target Values (Test)\\n{pd.Series(y_test).value_counts()[:5]}')"
   ]
  },
  {
   "cell_type": "markdown",
   "metadata": {},
   "source": [
    "#### Create & Train Model\n",
    "And output an array of predictions (just to see what they look like)."
   ]
  },
  {
   "cell_type": "code",
   "execution_count": 13,
   "metadata": {},
   "outputs": [],
   "source": [
    "knn = KNeighborsClassifier(n_neighbors=1)"
   ]
  },
  {
   "cell_type": "code",
   "execution_count": 14,
   "metadata": {},
   "outputs": [
    {
     "data": {
      "text/plain": [
       "KNeighborsClassifier(n_neighbors=1)"
      ]
     },
     "execution_count": 14,
     "metadata": {},
     "output_type": "execute_result"
    }
   ],
   "source": [
    "knn.fit(X_train, y_train)"
   ]
  },
  {
   "cell_type": "code",
   "execution_count": 15,
   "metadata": {},
   "outputs": [
    {
     "data": {
      "text/plain": [
       "array(['17', '18', '17', ..., '10', '18', ''], dtype=object)"
      ]
     },
     "execution_count": 15,
     "metadata": {},
     "output_type": "execute_result"
    }
   ],
   "source": [
    "knn.predict(X_test)"
   ]
  },
  {
   "cell_type": "markdown",
   "metadata": {},
   "source": [
    "#### Score Model"
   ]
  },
  {
   "cell_type": "code",
   "execution_count": 16,
   "metadata": {},
   "outputs": [
    {
     "name": "stdout",
     "output_type": "stream",
     "text": [
      "n_correct:  2168\n",
      "n_possible: 2398\n",
      "% correct:  90.40867389491243%\n"
     ]
    }
   ],
   "source": [
    "preds = knn.predict(X_test)\n",
    "\n",
    "n_correct = np.sum(preds == y_test)\n",
    "n_possible = len(y_test)\n",
    "\n",
    "print(f'n_correct:  {n_correct}\\nn_possible: {n_possible}\\n% correct:  {n_correct/n_possible*100}%')"
   ]
  },
  {
   "cell_type": "markdown",
   "metadata": {},
   "source": [
    "#### Current \n",
    "- 4796 rows, k=1, test_size=0.3, % correct: 93.12022237665045%\n",
    "\n",
    "#### Previous Scores\n",
    "- Week of 31 August 2020\n",
    "    - 1740 rows, k=1, test_size=0.2, % correct: 89.65517241379311%\n",
    "    - 2114 rows, k=1, test_size=0.2, % correct: 88.88888888888889%\n",
    "    - 2114 rows, k=2, test_size=0.2, % correct: 88.65248226950354%\n",
    "    - 2114 rows, k=3, test_size=100, % correct: 94.0% (one off, more range variation than above, higher highs, lower lows)\n",
    "    - 2114 rows, k=1, test_size=100, % correct: 91.0% (consistent, some variation ranging 84-93%)\n",
    "    - 2114 rows, k=1, test_size=0.3, % correct (7 runs avg): 88.008998875%\n",
    "\n",
    "#### Goal Score (30 September 2020)\n",
    "- n rows, k=k, test_size=test_size, % correct: 98.1%+\n",
    "\n",
    "#### Goal Deployed Score (31 October 2020)\n",
    "- n rows, k=k, test_size=live_feed, % correct: 95.1%+"
   ]
  },
  {
   "cell_type": "markdown",
   "metadata": {},
   "source": [
    "## What's wrong? Predicted v Actual\n",
    "Incorrect predictions on the left, actual values (labels) on the right. (Assumes labels are correct.)"
   ]
  },
  {
   "cell_type": "code",
   "execution_count": 17,
   "metadata": {},
   "outputs": [
    {
     "data": {
      "text/html": [
       "<div>\n",
       "<style scoped>\n",
       "    .dataframe tbody tr th:only-of-type {\n",
       "        vertical-align: middle;\n",
       "    }\n",
       "\n",
       "    .dataframe tbody tr th {\n",
       "        vertical-align: top;\n",
       "    }\n",
       "\n",
       "    .dataframe thead th {\n",
       "        text-align: right;\n",
       "    }\n",
       "</style>\n",
       "<table border=\"1\" class=\"dataframe\">\n",
       "  <thead>\n",
       "    <tr style=\"text-align: right;\">\n",
       "      <th></th>\n",
       "      <th>predicted</th>\n",
       "      <th>actual</th>\n",
       "      <th>reference_file</th>\n",
       "    </tr>\n",
       "  </thead>\n",
       "  <tbody>\n",
       "    <tr>\n",
       "      <th>2396</th>\n",
       "      <td>18</td>\n",
       "      <td>18</td>\n",
       "      <td>media/digits_only/loop_04433k.jpg</td>\n",
       "    </tr>\n",
       "    <tr>\n",
       "      <th>2397</th>\n",
       "      <td></td>\n",
       "      <td></td>\n",
       "      <td>media/digits_only/loop_01024k.jpg</td>\n",
       "    </tr>\n",
       "  </tbody>\n",
       "</table>\n",
       "</div>"
      ],
      "text/plain": [
       "     predicted actual                     reference_file\n",
       "2396        18     18  media/digits_only/loop_04433k.jpg\n",
       "2397                   media/digits_only/loop_01024k.jpg"
      ]
     },
     "execution_count": 17,
     "metadata": {},
     "output_type": "execute_result"
    }
   ],
   "source": [
    "comp_df = pd.DataFrame()\n",
    "\n",
    "comp_df['predicted'] = preds\n",
    "comp_df['actual'] = y_test\n",
    "comp_df['reference_file'] = test_file_paths\n",
    "\n",
    "comp_df.tail(2)"
   ]
  },
  {
   "cell_type": "code",
   "execution_count": 18,
   "metadata": {},
   "outputs": [
    {
     "data": {
      "text/html": [
       "<div>\n",
       "<style scoped>\n",
       "    .dataframe tbody tr th:only-of-type {\n",
       "        vertical-align: middle;\n",
       "    }\n",
       "\n",
       "    .dataframe tbody tr th {\n",
       "        vertical-align: top;\n",
       "    }\n",
       "\n",
       "    .dataframe thead th {\n",
       "        text-align: right;\n",
       "    }\n",
       "</style>\n",
       "<table border=\"1\" class=\"dataframe\">\n",
       "  <thead>\n",
       "    <tr style=\"text-align: right;\">\n",
       "      <th></th>\n",
       "      <th>predicted</th>\n",
       "      <th>actual</th>\n",
       "      <th>reference_file</th>\n",
       "    </tr>\n",
       "  </thead>\n",
       "  <tbody>\n",
       "    <tr>\n",
       "      <th>13</th>\n",
       "      <td>93</td>\n",
       "      <td>53</td>\n",
       "      <td>media/digits_only/loop_03649pr.jpg</td>\n",
       "    </tr>\n",
       "    <tr>\n",
       "      <th>14</th>\n",
       "      <td>130</td>\n",
       "      <td>136</td>\n",
       "      <td>media/digits_only/loop_04460pr.jpg</td>\n",
       "    </tr>\n",
       "    <tr>\n",
       "      <th>15</th>\n",
       "      <td>50</td>\n",
       "      <td></td>\n",
       "      <td>media/digits_only/loop_00080pr.jpg</td>\n",
       "    </tr>\n",
       "    <tr>\n",
       "      <th>18</th>\n",
       "      <td>23</td>\n",
       "      <td>25</td>\n",
       "      <td>media/kills_only/loop_01891.jpg</td>\n",
       "    </tr>\n",
       "    <tr>\n",
       "      <th>29</th>\n",
       "      <td>i146</td>\n",
       "      <td>i143</td>\n",
       "      <td>media/digits_only/loop_04441pr.jpg</td>\n",
       "    </tr>\n",
       "    <tr>\n",
       "      <th>...</th>\n",
       "      <td>...</td>\n",
       "      <td>...</td>\n",
       "      <td>...</td>\n",
       "    </tr>\n",
       "    <tr>\n",
       "      <th>2364</th>\n",
       "      <td>23</td>\n",
       "      <td>24</td>\n",
       "      <td>media/kills_only/loop_01433.jpg</td>\n",
       "    </tr>\n",
       "    <tr>\n",
       "      <th>2365</th>\n",
       "      <td>91</td>\n",
       "      <td>81</td>\n",
       "      <td>media/digits_only/loop_03564pr.jpg</td>\n",
       "    </tr>\n",
       "    <tr>\n",
       "      <th>2367</th>\n",
       "      <td>13</td>\n",
       "      <td>19</td>\n",
       "      <td>media/kills_only/loop_01678.jpg</td>\n",
       "    </tr>\n",
       "    <tr>\n",
       "      <th>2379</th>\n",
       "      <td>16</td>\n",
       "      <td>15</td>\n",
       "      <td>media/kills_only/loop_01831.jpg</td>\n",
       "    </tr>\n",
       "    <tr>\n",
       "      <th>2387</th>\n",
       "      <td>5</td>\n",
       "      <td>14</td>\n",
       "      <td>media/kills_only/loop_01420.jpg</td>\n",
       "    </tr>\n",
       "  </tbody>\n",
       "</table>\n",
       "<p>230 rows × 3 columns</p>\n",
       "</div>"
      ],
      "text/plain": [
       "     predicted actual                      reference_file\n",
       "13          93     53  media/digits_only/loop_03649pr.jpg\n",
       "14         130    136  media/digits_only/loop_04460pr.jpg\n",
       "15          50         media/digits_only/loop_00080pr.jpg\n",
       "18          23     25     media/kills_only/loop_01891.jpg\n",
       "29        i146   i143  media/digits_only/loop_04441pr.jpg\n",
       "...        ...    ...                                 ...\n",
       "2364        23     24     media/kills_only/loop_01433.jpg\n",
       "2365        91     81  media/digits_only/loop_03564pr.jpg\n",
       "2367        13     19     media/kills_only/loop_01678.jpg\n",
       "2379        16     15     media/kills_only/loop_01831.jpg\n",
       "2387         5     14     media/kills_only/loop_01420.jpg\n",
       "\n",
       "[230 rows x 3 columns]"
      ]
     },
     "execution_count": 18,
     "metadata": {},
     "output_type": "execute_result"
    }
   ],
   "source": [
    "comp_df.loc[comp_df.predicted != comp_df.actual]"
   ]
  },
  {
   "cell_type": "markdown",
   "metadata": {},
   "source": [
    "What are the top 25 targets we are missing?"
   ]
  },
  {
   "cell_type": "code",
   "execution_count": 19,
   "metadata": {},
   "outputs": [
    {
     "data": {
      "text/plain": [
       "       20\n",
       "6      11\n",
       "13      7\n",
       "18      7\n",
       "19      7\n",
       "5       6\n",
       "11      5\n",
       "81      5\n",
       "16      5\n",
       "60      5\n",
       "12      4\n",
       "25      4\n",
       "8       4\n",
       "82      4\n",
       "67      4\n",
       "72      4\n",
       "1       4\n",
       "14      3\n",
       "85      3\n",
       "7       3\n",
       "69      3\n",
       "136     3\n",
       "59      3\n",
       "150     3\n",
       "123     3\n",
       "Name: actual, dtype: int64"
      ]
     },
     "execution_count": 19,
     "metadata": {},
     "output_type": "execute_result"
    }
   ],
   "source": [
    "comp_df.loc[comp_df.predicted != comp_df.actual].actual.value_counts()[:25]"
   ]
  },
  {
   "cell_type": "markdown",
   "metadata": {},
   "source": [
    "What are the top 25 targets we are hitting?"
   ]
  },
  {
   "cell_type": "code",
   "execution_count": 20,
   "metadata": {},
   "outputs": [
    {
     "data": {
      "text/plain": [
       "      180\n",
       "0     123\n",
       "1     106\n",
       "5     100\n",
       "11     94\n",
       "10     91\n",
       "4      86\n",
       "16     79\n",
       "12     73\n",
       "8      70\n",
       "3      68\n",
       "15     67\n",
       "6      63\n",
       "2      63\n",
       "9      62\n",
       "19     55\n",
       "14     52\n",
       "20     44\n",
       "7      44\n",
       "18     38\n",
       "13     34\n",
       "17     27\n",
       "23     21\n",
       "28     20\n",
       "35     17\n",
       "Name: actual, dtype: int64"
      ]
     },
     "execution_count": 20,
     "metadata": {},
     "output_type": "execute_result"
    }
   ],
   "source": [
    "comp_df.loc[comp_df.predicted == comp_df.actual].actual.value_counts()[:25]"
   ]
  }
 ],
 "metadata": {
  "kernelspec": {
   "display_name": "Python 3",
   "language": "python",
   "name": "python3"
  },
  "language_info": {
   "codemirror_mode": {
    "name": "ipython",
    "version": 3
   },
   "file_extension": ".py",
   "mimetype": "text/x-python",
   "name": "python",
   "nbconvert_exporter": "python",
   "pygments_lexer": "ipython3",
   "version": "3.7.7"
  }
 },
 "nbformat": 4,
 "nbformat_minor": 4
}
