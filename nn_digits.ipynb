{
 "cells": [
  {
   "cell_type": "markdown",
   "metadata": {},
   "source": [
    "### Help: https://youtu.be/1gQR24B3ISE"
   ]
  },
  {
   "cell_type": "code",
   "execution_count": 1,
   "metadata": {},
   "outputs": [
    {
     "name": "stdout",
     "output_type": "stream",
     "text": [
      "0 | 350\n",
      "2 | 350\n",
      "3 | 350\n",
      "4 | 350\n",
      "1 | 350\n",
      "21 | 120\n",
      "5 | 350\n",
      "6 | 287\n",
      "8 | 332\n",
      "7 | 248\n",
      "9 | 350\n",
      "10 | 350\n",
      "11 | 350\n",
      "12 | 350\n",
      "14 | 266\n",
      "15 | 345\n",
      "16 | 316\n",
      "13 | 176\n",
      "17 | 167\n",
      "18 | 236\n",
      "19 | 180\n",
      "24 | 69\n",
      "27 | 39\n",
      "20 | 186\n",
      "22 | 86\n",
      "23 | 93\n",
      "25 | 81\n",
      "26 | 51\n",
      "33 | 64\n",
      "32 | 21\n",
      "29 | 81\n",
      "28 | 89\n",
      "30 | 76\n",
      "31 | 23\n"
     ]
    },
    {
     "name": "stderr",
     "output_type": "stream",
     "text": [
      "C:\\Users\\war23\\Anaconda3\\envs\\open\\lib\\site-packages\\numpy\\core\\_asarray.py:136: VisibleDeprecationWarning: Creating an ndarray from ragged nested sequences (which is a list-or-tuple of lists-or-tuples-or ndarrays with different lengths or shapes) is deprecated. If you meant to do this, you must specify 'dtype=object' when creating the ndarray\n",
      "  return array(a, dtype, copy=False, order=order, subok=True)\n"
     ]
    },
    {
     "data": {
      "text/plain": [
       "6418"
      ]
     },
     "execution_count": 1,
     "metadata": {},
     "output_type": "execute_result"
    }
   ],
   "source": [
    "import torch\n",
    "import torchvision\n",
    "\n",
    "import pandas as pd\n",
    "\n",
    "from tqdm import tqdm\n",
    "\n",
    "import cv2 as cv\n",
    "import numpy as np\n",
    "from PIL import Image\n",
    "\n",
    "from sklearn.model_selection import train_test_split\n",
    "\n",
    "df_28x28 = pd.read_csv('numbers.csv')\n",
    "df_38x28 = pd.read_csv('digits_only_numbers.csv')\n",
    "\n",
    "df = pd.concat([df_28x28, df_38x28], ignore_index=True)\n",
    "\n",
    "max_val = 33\n",
    "max_label_sample = 350\n",
    "\n",
    "# fix digits\n",
    "df.numbers.loc[df.numbers == '00'] = 0\n",
    "for _ in range(160):\n",
    "    if _ <= 152:\n",
    "        df.numbers.loc[df.numbers == f'{_}'] = _\n",
    "        # relabel: partially blurry > blurry\n",
    "        for e in [f'b{_}', f'{_}b']:\n",
    "            df.numbers.loc[df.numbers == e] = 'b'\n",
    "        # relabel icon issue numbers as numbers\n",
    "        for e in [f'i{_}']:\n",
    "            df.numbers.loc[df.numbers == e] = _\n",
    "    else:\n",
    "        df = df.loc[df.numbers != f'{_}']\n",
    "\n",
    "# fix nulls (standardize)\n",
    "df.numbers.loc[df.numbers == 'b'] = ''\n",
    "df.numbers.loc[df.numbers == 'e'] = ''\n",
    "df.numbers.loc[df.numbers == 'r'] = ''\n",
    "df.numbers.loc[df.numbers == 'n'] = ''\n",
    "df.numbers.loc[df.numbers == ''] = 153\n",
    "\n",
    "# 0-9 only\n",
    "df = df.loc[df.numbers != '']\n",
    "df = df.loc[df.numbers <= max_val]\n",
    "for value in df.numbers.unique():\n",
    "    c = len(df.loc[df.numbers==value])\n",
    "    if c > max_label_sample:\n",
    "        temp_df = df.loc[df.numbers == value].sample(max_label_sample)\n",
    "        df = df.loc[df.numbers != value]\n",
    "        df = pd.concat([df, temp_df])\n",
    "    print(f'{value} | {len(df.loc[df.numbers==value])}')\n",
    "\n",
    "\n",
    "file_paths = df.file_path.values\n",
    "# load & resize image arrays\n",
    "image_arrays = []\n",
    "for path in file_paths:\n",
    "    base_size = Image.open(path).size\n",
    "    if base_size == (38, 28):\n",
    "        img = cv.imread(path, cv.IMREAD_GRAYSCALE)\n",
    "        img = Image.fromarray(img)\n",
    "        img = img.crop((0, 0-5, 38, 28+5))\n",
    "        img = np.array(img)\n",
    "        img = cv.resize(img, (50, 50))\n",
    "        image_arrays.append(img)\n",
    "    elif base_size == (28, 28):\n",
    "        img = cv.imread(path, cv.IMREAD_GRAYSCALE)\n",
    "        img = Image.fromarray(img)\n",
    "        img = img.crop((0-3, 0-5, 28+7, 28+5))\n",
    "        img = np.array(img)\n",
    "        img = cv.resize(img, (50, 50))\n",
    "        image_arrays.append(img)\n",
    "    else:\n",
    "        raise Exception(f'\\nerror: unknown size | {base_size}')\n",
    "\n",
    "# image labels\n",
    "y = df.numbers.values\n",
    "\n",
    "# zip loaded images with their file paths\n",
    "X = [[img, path] for img, path in zip(image_arrays, file_paths)]\n",
    "\n",
    "# shuffle and split data into training & testing sets\n",
    "X_train, X_test, y_train, y_test = train_test_split(X, y, test_size=0.1, shuffle=True)\n",
    "\n",
    "# cut file paths from training & testing sets \n",
    "train_file_paths = [fp for img, fp in X_train]\n",
    "test_file_paths = [fp for img, fp in X_test]\n",
    "\n",
    "# cut image arrays from training & testing sets\n",
    "X_train = [img for img, fp in X_train]\n",
    "X_test = [img for img, fp in X_test]\n",
    "\n",
    "\n",
    "train = [[img, np.eye(max_val+1)[label]] for img, label in zip(X_train, y_train)]\n",
    "test = [[img, np.eye(max_val+1)[label]] for img, label in zip(X_test, y_test)]\n",
    "\n",
    "np.save('training_data.npy', train)\n",
    "np.save('testing_data.npy', test)\n",
    "\n",
    "training_data = np.load('training_data.npy', allow_pickle=True)\n",
    "len(training_data)"
   ]
  },
  {
   "cell_type": "code",
   "execution_count": 2,
   "metadata": {},
   "outputs": [
    {
     "name": "stdout",
     "output_type": "stream",
     "text": [
      "Net(\n",
      "  (conv1): Conv2d(1, 32, kernel_size=(5, 5), stride=(1, 1))\n",
      "  (conv2): Conv2d(32, 64, kernel_size=(5, 5), stride=(1, 1))\n",
      "  (conv3): Conv2d(64, 128, kernel_size=(5, 5), stride=(1, 1))\n",
      "  (fc1): Linear(in_features=512, out_features=512, bias=True)\n",
      "  (fc2): Linear(in_features=512, out_features=34, bias=True)\n",
      ")\n"
     ]
    }
   ],
   "source": [
    "import torch\n",
    "import torch.nn as nn\n",
    "import torch.nn.functional as F\n",
    "\n",
    "class Net(nn.Module):\n",
    "    def __init__(self):\n",
    "        super().__init__() # just run the init of parent class (nn.Module)\n",
    "        self.conv1 = nn.Conv2d(1, 32, 5) # input is 1 image, 32 output channels, 5x5 kernel / window\n",
    "        self.conv2 = nn.Conv2d(32, 64, 5) # input is 32, bc the first layer output 32. Then we say the output will be 64 channels, 5x5 kernel / window\n",
    "        self.conv3 = nn.Conv2d(64, 128, 5)\n",
    "\n",
    "        x = torch.randn(50,50).view(-1,1,50,50)\n",
    "        self._to_linear = None\n",
    "        self.convs(x)\n",
    "\n",
    "        self.fc1 = nn.Linear(self._to_linear, 512) #flattening.\n",
    "        self.fc2 = nn.Linear(512, max_val+1) # 512 in, 2 out bc we're doing 2 classes (dog vs cat).\n",
    "\n",
    "    def convs(self, x):\n",
    "        # max pooling over 2x2\n",
    "        x = F.max_pool2d(F.relu(self.conv1(x)), (2, 2))\n",
    "        x = F.max_pool2d(F.relu(self.conv2(x)), (2, 2))\n",
    "        x = F.max_pool2d(F.relu(self.conv3(x)), (2, 2))\n",
    "\n",
    "        if self._to_linear is None:\n",
    "            self._to_linear = x[0].shape[0]*x[0].shape[1]*x[0].shape[2]\n",
    "        return x\n",
    "\n",
    "    def forward(self, x):\n",
    "        x = self.convs(x)\n",
    "        x = x.view(-1, self._to_linear)  # .view is reshape ... this flattens X before \n",
    "        x = F.relu(self.fc1(x))\n",
    "        x = self.fc2(x) # bc this is our output layer. No activation here.\n",
    "        return F.softmax(x, dim=1)\n",
    "\n",
    "\n",
    "net = Net()\n",
    "print(net)"
   ]
  },
  {
   "cell_type": "code",
   "execution_count": 3,
   "metadata": {},
   "outputs": [],
   "source": [
    "import torch.optim as optim\n",
    "\n",
    "optimizer = optim.Adam(net.parameters(), lr=0.001)\n",
    "loss_function = nn.MSELoss()"
   ]
  },
  {
   "cell_type": "code",
   "execution_count": 4,
   "metadata": {},
   "outputs": [],
   "source": [
    "X = torch.Tensor([i[0] for i in training_data]).view(-1,50,50)\n",
    "X = X/255.0\n",
    "y = torch.Tensor([i[1] for i in training_data])"
   ]
  },
  {
   "cell_type": "code",
   "execution_count": 5,
   "metadata": {},
   "outputs": [
    {
     "name": "stdout",
     "output_type": "stream",
     "text": [
      "1925\n"
     ]
    }
   ],
   "source": [
    "VAL_PCT = 0.3  # lets reserve 10% of our data for validation\n",
    "val_size = int(len(X)*VAL_PCT)\n",
    "print(val_size)"
   ]
  },
  {
   "cell_type": "code",
   "execution_count": 6,
   "metadata": {},
   "outputs": [],
   "source": [
    "train_X = X[:-val_size]\n",
    "train_y = y[:-val_size]\n",
    "\n",
    "test_X = X[-val_size:]\n",
    "test_y = y[-val_size:]"
   ]
  },
  {
   "cell_type": "code",
   "execution_count": 7,
   "metadata": {},
   "outputs": [
    {
     "name": "stdout",
     "output_type": "stream",
     "text": [
      "4493 1925\n"
     ]
    }
   ],
   "source": [
    "print(len(train_X), len(test_X))"
   ]
  },
  {
   "cell_type": "code",
   "execution_count": 8,
   "metadata": {},
   "outputs": [
    {
     "name": "stderr",
     "output_type": "stream",
     "text": [
      "100%|██████████████████████████████████████████████████████████████████████████████████| 57/57 [00:15<00:00,  3.75it/s]\n",
      "  0%|                                                                                           | 0/57 [00:00<?, ?it/s]"
     ]
    },
    {
     "name": "stdout",
     "output_type": "stream",
     "text": [
      "Epoch: 0. Loss: 0.022386200726032257\n"
     ]
    },
    {
     "name": "stderr",
     "output_type": "stream",
     "text": [
      "100%|██████████████████████████████████████████████████████████████████████████████████| 57/57 [00:15<00:00,  3.68it/s]\n",
      "  0%|                                                                                           | 0/57 [00:00<?, ?it/s]"
     ]
    },
    {
     "name": "stdout",
     "output_type": "stream",
     "text": [
      "Epoch: 1. Loss: 0.010368489660322666\n"
     ]
    },
    {
     "name": "stderr",
     "output_type": "stream",
     "text": [
      "100%|██████████████████████████████████████████████████████████████████████████████████| 57/57 [00:16<00:00,  3.48it/s]\n",
      "  0%|                                                                                           | 0/57 [00:00<?, ?it/s]"
     ]
    },
    {
     "name": "stdout",
     "output_type": "stream",
     "text": [
      "Epoch: 2. Loss: 0.010404382832348347\n"
     ]
    },
    {
     "name": "stderr",
     "output_type": "stream",
     "text": [
      "100%|██████████████████████████████████████████████████████████████████████████████████| 57/57 [00:14<00:00,  3.88it/s]"
     ]
    },
    {
     "name": "stdout",
     "output_type": "stream",
     "text": [
      "Epoch: 3. Loss: 0.009877195581793785\n"
     ]
    },
    {
     "name": "stderr",
     "output_type": "stream",
     "text": [
      "\n"
     ]
    }
   ],
   "source": [
    "BATCH_SIZE = 80\n",
    "EPOCHS = 4\n",
    "\n",
    "for epoch in range(EPOCHS):\n",
    "    for i in tqdm(range(0, len(train_X), BATCH_SIZE)): # from 0, to the len of x, stepping BATCH_SIZE at a time. [:50] ..for now just to dev\n",
    "        #print(f\"{i}:{i+BATCH_SIZE}\")\n",
    "        batch_X = train_X[i:i+BATCH_SIZE].view(-1, 1, 50, 50)\n",
    "        batch_y = train_y[i:i+BATCH_SIZE]\n",
    "\n",
    "        net.zero_grad()\n",
    "\n",
    "        outputs = net(batch_X)\n",
    "        loss = loss_function(outputs, batch_y)\n",
    "        loss.backward()\n",
    "        optimizer.step()    # Does the update\n",
    "\n",
    "        \n",
    "    print(f\"Epoch: {epoch}. Loss: {loss}\")"
   ]
  },
  {
   "cell_type": "code",
   "execution_count": 9,
   "metadata": {},
   "outputs": [
    {
     "name": "stderr",
     "output_type": "stream",
     "text": [
      "100%|█████████████████████████████████████████████████████████████████████████████| 1925/1925 [00:04<00:00, 390.05it/s]"
     ]
    },
    {
     "name": "stdout",
     "output_type": "stream",
     "text": [
      "Accuracy:  0.925\n"
     ]
    },
    {
     "name": "stderr",
     "output_type": "stream",
     "text": [
      "\n"
     ]
    }
   ],
   "source": [
    "correct = 0\n",
    "total = 0\n",
    "with torch.no_grad():\n",
    "    for i in tqdm(range(len(test_X))):\n",
    "        real_class = torch.argmax(test_y[i])\n",
    "        net_out = net(test_X[i].view(-1, 1, 50, 50))[0]  # returns a list, \n",
    "        predicted_class = torch.argmax(net_out)\n",
    "\n",
    "        if predicted_class == real_class:\n",
    "            correct += 1\n",
    "        total += 1\n",
    "print(\"Accuracy: \", round(correct/total, 3))"
   ]
  }
 ],
 "metadata": {
  "kernelspec": {
   "display_name": "Python 3",
   "language": "python",
   "name": "python3"
  },
  "language_info": {
   "codemirror_mode": {
    "name": "ipython",
    "version": 3
   },
   "file_extension": ".py",
   "mimetype": "text/x-python",
   "name": "python",
   "nbconvert_exporter": "python",
   "pygments_lexer": "ipython3",
   "version": "3.7.7"
  }
 },
 "nbformat": 4,
 "nbformat_minor": 4
}
