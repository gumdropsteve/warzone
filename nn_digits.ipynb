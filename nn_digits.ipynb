{
 "cells": [
  {
   "cell_type": "markdown",
   "metadata": {},
   "source": [
    "Help: https://youtu.be/1gQR24B3ISE\n",
    "\n",
    "#### Imports"
   ]
  },
  {
   "cell_type": "code",
   "execution_count": null,
   "metadata": {},
   "outputs": [],
   "source": [
    "import torch\n",
    "# import torchvision\n",
    "\n",
    "import pandas as pd\n",
    "\n",
    "from tqdm import tqdm\n",
    "\n",
    "import cv2 as cv\n",
    "import numpy as np\n",
    "from PIL import Image\n",
    "\n",
    "from sklearn.model_selection import train_test_split\n",
    "\n",
    "import torch.nn as nn\n",
    "import torch.nn.functional as F\n",
    "import torch.optim as optim"
   ]
  },
  {
   "cell_type": "markdown",
   "metadata": {},
   "source": [
    "## ETL Data (Images)"
   ]
  },
  {
   "cell_type": "code",
   "execution_count": null,
   "metadata": {},
   "outputs": [],
   "source": [
    "%%time\n",
    "# 2,114 (total) n_kills (28, 28) crops\n",
    "df_28x28 = pd.read_csv('numbers.csv')\n",
    "\n",
    "# 11,024 (total) n_kills & n_pr (38, 28) crops\n",
    "df_38x28 = pd.read_csv('digits_only_numbers.csv')\n",
    "\n",
    "# 7,717 (each) n_kills & n_pr crops (38, 28) & 150 (total) n_tr crops (38, 28)\n",
    "df_38x28_s = pd.read_csv('labeled_screenshots.csv')\n",
    "n_teams_numbers = df_38x28_s[['n_teams_remaining', 'tr_reference_file']].dropna()\n",
    "n_players_numbers = df_38x28_s[['n_players_remaining', 'pr_reference_file']].dropna()\n",
    "n_kills_numbers = df_38x28_s[['n_kills', 'k_reference_file']].dropna()\n",
    "for numbers_group in [n_teams_numbers, n_players_numbers, n_kills_numbers]:\n",
    "    numbers_group.columns = ['numbers', 'file_path']\n",
    "df_38x28_s = pd.concat([n_teams_numbers, n_players_numbers, n_kills_numbers])\n",
    "\n",
    "# combine into unified dataframe of numbers (labels) & file paths\n",
    "df = pd.concat([df_28x28, df_38x28, df_38x28_s], ignore_index=True)\n",
    "\n",
    "# max_val = 152\n",
    "max_val = 33\n",
    "\n",
    "max_label_sample = 500\n",
    "# max_label_sample = 200\n",
    "\n",
    "standard_nulls = True\n",
    "\n",
    "fix_digits = True\n",
    "\n",
    "# fix digits\n",
    "if fix_digits:\n",
    "    df.numbers.loc[df.numbers == '00'] = 0\n",
    "    for _ in range(160):\n",
    "        if _ <= 152:\n",
    "            df.numbers.loc[df.numbers == f'{_}'] = _\n",
    "            df.numbers.loc[df.numbers == f'{float(_)}'] = _\n",
    "            # relabel: partially blurry > blurry\n",
    "            for e in [f'b{_}', f'{_}b', f'{_}bb', f'b{float(_)}', f'{float(_)}b' f'{float(_)}bb']:\n",
    "                df.numbers.loc[df.numbers == e] = 'b'\n",
    "                if _ < 10:\n",
    "                    df.numbers.loc[df.numbers == f'b0{_}'] = 'b'\n",
    "            # remove all icon issue numbers\n",
    "            for e in [f'i{int(_)}', f'{int(_)}i', f'i{float(_)}', f'{float(_)}i',\n",
    "                      f'i{float(_)}b', f'b{float(_)}i', f'b{int(_)}i', f'i{int(_)}b', f'ie{int(_)}', f'ie{float(_)}',\n",
    "                      f'i{int(_)}e', f'i{float(_)}e']:\n",
    "                df = df.loc[df.numbers != e]\n",
    "            # remove other error issue numbers\n",
    "            for e in [f'e{_}', f'{_}e', f'e{float(_)}', f'{float(_)}e']:\n",
    "                df = df.loc[df.numbers != e]\n",
    "        else:\n",
    "            # remove any numbers over 152\n",
    "            for e in [f'{int(_)}', f'i{int(_)}', f'{int(_)}i', f'i{float(_)}', f'{float(_)}i', \n",
    "                      f'b{int(_)}', f'{int(_)}b',\n",
    "                      f'e{int(_)}', f'e{float(_)}']:\n",
    "                df = df.loc[df.numbers != e]\n",
    "\n",
    "# fix nulls (standardize)\n",
    "if standard_nulls:\n",
    "    df.numbers.loc[df.numbers == 'b'] = ''\n",
    "    df.numbers.loc[df.numbers == 'e'] = ''\n",
    "    df.numbers.loc[df.numbers == 'r'] = ''\n",
    "    df.numbers.loc[df.numbers == 'n'] = ''\n",
    "    df.numbers.loc[df.numbers == 'bb'] = ''\n",
    "    df.numbers.loc[df.numbers == 'ib'] = ''\n",
    "    df.numbers.loc[df.numbers == 'ibb'] = ''\n",
    "    df.numbers.loc[df.numbers == 'ie'] = ''\n",
    "    df.numbers.loc[df.numbers == 'nn'] = ''\n",
    "    df.numbers.loc[df.numbers == ''] = 153\n",
    "\n",
    "# 0-9 only\n",
    "if max_val:\n",
    "    df = df.loc[df.numbers != '']\n",
    "    df = df.loc[df.numbers <= max_val]\n",
    "    \n",
    "# limit number of each label\n",
    "if max_label_sample:\n",
    "    for value in df.numbers.unique():\n",
    "        c = len(df.loc[df.numbers==value])\n",
    "        if c > max_label_sample:\n",
    "            temp_df = df.loc[df.numbers == value].sample(max_label_sample)\n",
    "            df = df.loc[df.numbers != value]\n",
    "            df = pd.concat([df, temp_df])\n",
    "        print(f'{value} | {len(df.loc[df.numbers==value])}')\n",
    "\n",
    "file_paths = df.file_path.values\n",
    "# load & resize image arrays\n",
    "image_arrays = []\n",
    "for path in file_paths:\n",
    "    base_size = Image.open(path).size\n",
    "    if base_size == (38, 28):\n",
    "        img = cv.imread(path, cv.IMREAD_GRAYSCALE)\n",
    "        img = Image.fromarray(img)\n",
    "        img = img.crop((0, 0-5, 38, 28+5))\n",
    "        img = np.array(img)\n",
    "        img = cv.resize(img, (50, 50))\n",
    "        image_arrays.append(img)\n",
    "    elif base_size == (28, 28):\n",
    "        img = cv.imread(path, cv.IMREAD_GRAYSCALE)\n",
    "        img = Image.fromarray(img)\n",
    "        img = img.crop((0-3, 0-5, 28+7, 28+5))\n",
    "        img = np.array(img)\n",
    "        img = cv.resize(img, (50, 50))\n",
    "        image_arrays.append(img)\n",
    "    else:\n",
    "        raise Exception(f'\\nerror: unknown size | {base_size}')\n",
    "\n",
    "# image labels\n",
    "y = df.numbers.values\n",
    "\n",
    "# zip loaded images with their file paths\n",
    "X = [[img, path] for img, path in zip(image_arrays, file_paths)]\n",
    "\n",
    "# shuffle and split data into training & testing sets (sacraficing 10%)\n",
    "X_train, X_test, y_train, y_test = train_test_split(X, y, test_size=0.1, shuffle=True)\n",
    "\n",
    "# cut file paths from training & testing sets \n",
    "train_file_paths = [fp for img, fp in X_train]\n",
    "test_file_paths = [fp for img, fp in X_test]\n",
    "\n",
    "# cut image arrays from training & testing sets\n",
    "X_train = [img for img, fp in X_train]\n",
    "X_test = [img for img, fp in X_test]\n",
    "\n",
    "train = [[img, np.eye(max_val+1)[label]] for img, label in zip(X_train, y_train)]\n",
    "test = [[img, np.eye(max_val+1)[label]] for img, label in zip(X_test, y_test)]"
   ]
  },
  {
   "cell_type": "markdown",
   "metadata": {},
   "source": [
    "#### Save Train/Test Data"
   ]
  },
  {
   "cell_type": "code",
   "execution_count": null,
   "metadata": {},
   "outputs": [],
   "source": [
    "np.save('training_data.npy', train)\n",
    "np.save('testing_data.npy', test)"
   ]
  },
  {
   "cell_type": "markdown",
   "metadata": {},
   "source": [
    "#### Load in Train Data"
   ]
  },
  {
   "cell_type": "code",
   "execution_count": null,
   "metadata": {},
   "outputs": [],
   "source": [
    "training_data = np.load('training_data.npy', allow_pickle=True)\n",
    "\n",
    "len(training_data)"
   ]
  },
  {
   "cell_type": "markdown",
   "metadata": {},
   "source": [
    "## Create Model"
   ]
  },
  {
   "cell_type": "code",
   "execution_count": null,
   "metadata": {},
   "outputs": [],
   "source": [
    "class Net(nn.Module):\n",
    "    def __init__(self):\n",
    "        super().__init__() # just run the init of parent class (nn.Module)\n",
    "        self.conv1 = nn.Conv2d(1, 32, 5) # input is 1 image, 32 output channels, 5x5 kernel / window\n",
    "        self.conv2 = nn.Conv2d(32, 64, 5) # input is 32, bc the first layer output 32. Then we say the output will be 64 channels, 5x5 kernel / window\n",
    "        self.conv3 = nn.Conv2d(64, 128, 5)\n",
    "\n",
    "        x = torch.randn(50,50).view(-1,1,50,50)\n",
    "        self._to_linear = None\n",
    "        self.convs(x)\n",
    "\n",
    "        self.fc1 = nn.Linear(self._to_linear, 512) #flattening.\n",
    "        self.fc2 = nn.Linear(512, max_val+1) # 512 in, 2 out bc we're doing 2 classes (dog vs cat).\n",
    "\n",
    "    def convs(self, x):\n",
    "        # max pooling over 2x2\n",
    "        x = F.max_pool2d(F.relu(self.conv1(x)), (2, 2))\n",
    "        x = F.max_pool2d(F.relu(self.conv2(x)), (2, 2))\n",
    "        x = F.max_pool2d(F.relu(self.conv3(x)), (2, 2))\n",
    "\n",
    "        if self._to_linear is None:\n",
    "            self._to_linear = x[0].shape[0]*x[0].shape[1]*x[0].shape[2]\n",
    "        return x\n",
    "\n",
    "    def forward(self, x):\n",
    "        x = self.convs(x)\n",
    "        x = x.view(-1, self._to_linear)  # .view is reshape ... this flattens X before \n",
    "        x = F.relu(self.fc1(x))\n",
    "        x = self.fc2(x) # bc this is our output layer. No activation here.\n",
    "        return F.softmax(x, dim=1)\n",
    "\n",
    "\n",
    "net = Net()\n",
    "print(net)"
   ]
  },
  {
   "cell_type": "code",
   "execution_count": null,
   "metadata": {},
   "outputs": [],
   "source": [
    "optimizer = optim.Adam(net.parameters(), lr=0.001)\n",
    "loss_function = nn.MSELoss()"
   ]
  },
  {
   "cell_type": "code",
   "execution_count": null,
   "metadata": {},
   "outputs": [],
   "source": [
    "X = torch.Tensor([i[0] for i in training_data]).view(-1,50,50)\n",
    "X = X/255.0\n",
    "y = torch.Tensor([i[1] for i in training_data])"
   ]
  },
  {
   "cell_type": "markdown",
   "metadata": {},
   "source": [
    "#### Resplit Data"
   ]
  },
  {
   "cell_type": "code",
   "execution_count": null,
   "metadata": {},
   "outputs": [],
   "source": [
    "VAL_PCT = 0.3  # lets reserve 10% of our data for validation\n",
    "val_size = int(len(X)*VAL_PCT)\n",
    "print(val_size)"
   ]
  },
  {
   "cell_type": "code",
   "execution_count": null,
   "metadata": {},
   "outputs": [],
   "source": [
    "train_X = X[:-val_size]\n",
    "train_y = y[:-val_size]\n",
    "\n",
    "test_X = X[-val_size:]\n",
    "test_y = y[-val_size:]"
   ]
  },
  {
   "cell_type": "code",
   "execution_count": null,
   "metadata": {},
   "outputs": [],
   "source": [
    "print(len(train_X), len(test_X))"
   ]
  },
  {
   "cell_type": "markdown",
   "metadata": {},
   "source": [
    "### Train & Score the Model"
   ]
  },
  {
   "cell_type": "code",
   "execution_count": null,
   "metadata": {},
   "outputs": [],
   "source": [
    "# BATCH_SIZE = 180\n",
    "BATCH_SIZE = 120\n",
    "EPOCHS = 1\n",
    "total_epochs = EPOCHS\n",
    "\n",
    "for epoch in range(EPOCHS):\n",
    "    for i in tqdm(range(0, len(train_X), BATCH_SIZE)): # from 0, to the len of x, stepping BATCH_SIZE at a time. [:50] ..for now just to dev\n",
    "        #print(f\"{i}:{i+BATCH_SIZE}\")\n",
    "        batch_X = train_X[i:i+BATCH_SIZE].view(-1, 1, 50, 50)\n",
    "        batch_y = train_y[i:i+BATCH_SIZE]\n",
    "\n",
    "        net.zero_grad()\n",
    "\n",
    "        outputs = net(batch_X)\n",
    "        loss = loss_function(outputs, batch_y)\n",
    "        loss.backward()\n",
    "        optimizer.step()    # Does the update\n",
    "\n",
    "    print(f\"Epoch: {total_epochs}. Loss: {loss}\")"
   ]
  },
  {
   "cell_type": "code",
   "execution_count": null,
   "metadata": {},
   "outputs": [],
   "source": [
    "correct = 0\n",
    "total = 0\n",
    "with torch.no_grad():\n",
    "    for i in tqdm(range(len(test_X))):\n",
    "        real_class = torch.argmax(test_y[i])\n",
    "        net_out = net(test_X[i].view(-1, 1, 50, 50))[0]  # returns a list, \n",
    "        predicted_class = torch.argmax(net_out)\n",
    "\n",
    "        if predicted_class == real_class:\n",
    "            correct += 1\n",
    "        total += 1\n",
    "print(f\"{total_epochs} Epoch Accuracy: \", round(correct/total, 3))"
   ]
  },
  {
   "cell_type": "code",
   "execution_count": null,
   "metadata": {},
   "outputs": [],
   "source": [
    "# BATCH_SIZE = 180\n",
    "BATCH_SIZE = 120\n",
    "EPOCHS = 1\n",
    "total_epochs += EPOCHS\n",
    "\n",
    "for epoch in range(EPOCHS):\n",
    "    for i in tqdm(range(0, len(train_X), BATCH_SIZE)): # from 0, to the len of x, stepping BATCH_SIZE at a time. [:50] ..for now just to dev\n",
    "        #print(f\"{i}:{i+BATCH_SIZE}\")\n",
    "        batch_X = train_X[i:i+BATCH_SIZE].view(-1, 1, 50, 50)\n",
    "        batch_y = train_y[i:i+BATCH_SIZE]\n",
    "\n",
    "        net.zero_grad()\n",
    "\n",
    "        outputs = net(batch_X)\n",
    "        loss = loss_function(outputs, batch_y)\n",
    "        loss.backward()\n",
    "        optimizer.step()    # Does the update\n",
    "\n",
    "    print(f\"Epoch: {total_epochs}. Loss: {loss}\")"
   ]
  },
  {
   "cell_type": "code",
   "execution_count": null,
   "metadata": {},
   "outputs": [],
   "source": [
    "correct = 0\n",
    "total = 0\n",
    "with torch.no_grad():\n",
    "    for i in tqdm(range(len(test_X))):\n",
    "        real_class = torch.argmax(test_y[i])\n",
    "        net_out = net(test_X[i].view(-1, 1, 50, 50))[0]  # returns a list, \n",
    "        predicted_class = torch.argmax(net_out)\n",
    "\n",
    "        if predicted_class == real_class:\n",
    "            correct += 1\n",
    "        total += 1\n",
    "print(f\"{total_epochs} Epoch Accuracy: \", round(correct/total, 3))"
   ]
  },
  {
   "cell_type": "code",
   "execution_count": null,
   "metadata": {},
   "outputs": [],
   "source": [
    "# BATCH_SIZE = 120\n",
    "BATCH_SIZE = 80\n",
    "EPOCHS = 1\n",
    "total_epochs += EPOCHS\n",
    "\n",
    "for epoch in range(EPOCHS):\n",
    "    for i in tqdm(range(0, len(train_X), BATCH_SIZE)): # from 0, to the len of x, stepping BATCH_SIZE at a time. [:50] ..for now just to dev\n",
    "        #print(f\"{i}:{i+BATCH_SIZE}\")\n",
    "        batch_X = train_X[i:i+BATCH_SIZE].view(-1, 1, 50, 50)\n",
    "        batch_y = train_y[i:i+BATCH_SIZE]\n",
    "\n",
    "        net.zero_grad()\n",
    "\n",
    "        outputs = net(batch_X)\n",
    "        loss = loss_function(outputs, batch_y)\n",
    "        loss.backward()\n",
    "        optimizer.step()    # Does the update\n",
    "\n",
    "    print(f\"Epoch: {total_epochs}. Loss: {loss}\")"
   ]
  },
  {
   "cell_type": "code",
   "execution_count": null,
   "metadata": {},
   "outputs": [],
   "source": [
    "correct = 0\n",
    "total = 0\n",
    "with torch.no_grad():\n",
    "    for i in tqdm(range(len(test_X))):\n",
    "        real_class = torch.argmax(test_y[i])\n",
    "        net_out = net(test_X[i].view(-1, 1, 50, 50))[0]  # returns a list, \n",
    "        predicted_class = torch.argmax(net_out)\n",
    "\n",
    "        if predicted_class == real_class:\n",
    "            correct += 1\n",
    "        total += 1\n",
    "print(f\"{total_epochs} Epoch Accuracy: \", round(correct/total, 3))"
   ]
  },
  {
   "cell_type": "code",
   "execution_count": null,
   "metadata": {},
   "outputs": [],
   "source": [
    "# BATCH_SIZE = 120\n",
    "BATCH_SIZE = 80\n",
    "EPOCHS = 1\n",
    "total_epochs += EPOCHS\n",
    "\n",
    "for epoch in range(EPOCHS):\n",
    "    for i in tqdm(range(0, len(train_X), BATCH_SIZE)): # from 0, to the len of x, stepping BATCH_SIZE at a time. [:50] ..for now just to dev\n",
    "        #print(f\"{i}:{i+BATCH_SIZE}\")\n",
    "        batch_X = train_X[i:i+BATCH_SIZE].view(-1, 1, 50, 50)\n",
    "        batch_y = train_y[i:i+BATCH_SIZE]\n",
    "\n",
    "        net.zero_grad()\n",
    "\n",
    "        outputs = net(batch_X)\n",
    "        loss = loss_function(outputs, batch_y)\n",
    "        loss.backward()\n",
    "        optimizer.step()    # Does the update\n",
    "\n",
    "    print(f\"Epoch: {total_epochs}. Loss: {loss}\")"
   ]
  },
  {
   "cell_type": "code",
   "execution_count": null,
   "metadata": {},
   "outputs": [],
   "source": [
    "correct = 0\n",
    "total = 0\n",
    "with torch.no_grad():\n",
    "    for i in tqdm(range(len(test_X))):\n",
    "        real_class = torch.argmax(test_y[i])\n",
    "        net_out = net(test_X[i].view(-1, 1, 50, 50))[0]  # returns a list, \n",
    "        predicted_class = torch.argmax(net_out)\n",
    "\n",
    "        if predicted_class == real_class:\n",
    "            correct += 1\n",
    "        total += 1\n",
    "print(f\"{total_epochs} Epoch Accuracy: \", round(correct/total, 3))"
   ]
  },
  {
   "cell_type": "code",
   "execution_count": null,
   "metadata": {},
   "outputs": [],
   "source": [
    "# BATCH_SIZE = 150\n",
    "BATCH_SIZE = 100\n",
    "EPOCHS = 1\n",
    "total_epochs += EPOCHS\n",
    "\n",
    "for epoch in range(EPOCHS):\n",
    "    for i in tqdm(range(0, len(train_X), BATCH_SIZE)): # from 0, to the len of x, stepping BATCH_SIZE at a time. [:50] ..for now just to dev\n",
    "        #print(f\"{i}:{i+BATCH_SIZE}\")\n",
    "        batch_X = train_X[i:i+BATCH_SIZE].view(-1, 1, 50, 50)\n",
    "        batch_y = train_y[i:i+BATCH_SIZE]\n",
    "\n",
    "        net.zero_grad()\n",
    "\n",
    "        outputs = net(batch_X)\n",
    "        loss = loss_function(outputs, batch_y)\n",
    "        loss.backward()\n",
    "        optimizer.step()    # Does the update\n",
    "\n",
    "    print(f\"Epoch: {total_epochs}. Loss: {loss}\")"
   ]
  },
  {
   "cell_type": "code",
   "execution_count": null,
   "metadata": {},
   "outputs": [],
   "source": [
    "correct = 0\n",
    "total = 0\n",
    "with torch.no_grad():\n",
    "    for i in tqdm(range(len(test_X))):\n",
    "        real_class = torch.argmax(test_y[i])\n",
    "        net_out = net(test_X[i].view(-1, 1, 50, 50))[0]  # returns a list, \n",
    "        predicted_class = torch.argmax(net_out)\n",
    "\n",
    "        if predicted_class == real_class:\n",
    "            correct += 1\n",
    "        total += 1\n",
    "print(f\"{total_epochs} Epoch Accuracy: \", round(correct/total, 3))"
   ]
  },
  {
   "cell_type": "code",
   "execution_count": null,
   "metadata": {},
   "outputs": [],
   "source": [
    "# BATCH_SIZE = 150\n",
    "BATCH_SIZE = 100\n",
    "EPOCHS = 1\n",
    "total_epochs += EPOCHS\n",
    "\n",
    "for epoch in range(EPOCHS):\n",
    "    for i in tqdm(range(0, len(train_X), BATCH_SIZE)): # from 0, to the len of x, stepping BATCH_SIZE at a time. [:50] ..for now just to dev\n",
    "        #print(f\"{i}:{i+BATCH_SIZE}\")\n",
    "        batch_X = train_X[i:i+BATCH_SIZE].view(-1, 1, 50, 50)\n",
    "        batch_y = train_y[i:i+BATCH_SIZE]\n",
    "\n",
    "        net.zero_grad()\n",
    "\n",
    "        outputs = net(batch_X)\n",
    "        loss = loss_function(outputs, batch_y)\n",
    "        loss.backward()\n",
    "        optimizer.step()    # Does the update\n",
    "\n",
    "    print(f\"Epoch: {total_epochs}. Loss: {loss}\")"
   ]
  },
  {
   "cell_type": "code",
   "execution_count": null,
   "metadata": {},
   "outputs": [],
   "source": [
    "correct = 0\n",
    "total = 0\n",
    "with torch.no_grad():\n",
    "    for i in tqdm(range(len(test_X))):\n",
    "        real_class = torch.argmax(test_y[i])\n",
    "        net_out = net(test_X[i].view(-1, 1, 50, 50))[0]  # returns a list, \n",
    "        predicted_class = torch.argmax(net_out)\n",
    "\n",
    "        if predicted_class == real_class:\n",
    "            correct += 1\n",
    "        total += 1\n",
    "print(\"6 Epoch Accuracy: \", round(correct/total, 3))"
   ]
  }
 ],
 "metadata": {
  "kernelspec": {
   "display_name": "Python 3",
   "language": "python",
   "name": "python3"
  },
  "language_info": {
   "codemirror_mode": {
    "name": "ipython",
    "version": 3
   },
   "file_extension": ".py",
   "mimetype": "text/x-python",
   "name": "python",
   "nbconvert_exporter": "python",
   "pygments_lexer": "ipython3",
   "version": "3.7.7"
  }
 },
 "nbformat": 4,
 "nbformat_minor": 4
}
