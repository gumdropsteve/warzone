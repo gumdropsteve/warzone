{
 "cells": [
  {
   "cell_type": "code",
   "execution_count": 1,
   "metadata": {},
   "outputs": [],
   "source": [
    "import time \n",
    "now = time.time()"
   ]
  },
  {
   "cell_type": "markdown",
   "metadata": {},
   "source": [
    "### Load Picture"
   ]
  },
  {
   "cell_type": "code",
   "execution_count": 2,
   "metadata": {},
   "outputs": [],
   "source": [
    "from PIL import Image \n",
    " \n",
    "img = Image.open(\"media/bobbypoffgaming/bobby_pre_game_lobby.jpeg\") \n",
    "\n",
    "img = img.resize((1280, 720))"
   ]
  },
  {
   "cell_type": "markdown",
   "metadata": {},
   "source": [
    "## Top Right Numbers"
   ]
  },
  {
   "cell_type": "code",
   "execution_count": 3,
   "metadata": {},
   "outputs": [],
   "source": [
    "left = 1070\n",
    "top = 30\n",
    "right = 1200\n",
    "bottom = 50\n",
    "\n",
    "img_res = img.crop((left, top, right, bottom)) \n",
    "\n",
    "# img_res.show() \n",
    "# img_res"
   ]
  },
  {
   "cell_type": "code",
   "execution_count": 4,
   "metadata": {},
   "outputs": [],
   "source": [
    "left = 100\n",
    "top = 0\n",
    "right = 140\n",
    "bottom = 20\n",
    "\n",
    "kills = img_res.crop((left, top, right, bottom)) \n",
    "\n",
    "# kills"
   ]
  },
  {
   "cell_type": "code",
   "execution_count": 5,
   "metadata": {},
   "outputs": [],
   "source": [
    "left = 50\n",
    "top = 0\n",
    "right = 100\n",
    "bottom = 20\n",
    "\n",
    "players_remaining = img_res.crop((left, top, right, bottom)) \n",
    "\n",
    "# players_remaining"
   ]
  },
  {
   "cell_type": "code",
   "execution_count": 6,
   "metadata": {},
   "outputs": [],
   "source": [
    "left = 0\n",
    "top = 0\n",
    "right = 50\n",
    "bottom = 20\n",
    "\n",
    "teams_remaining = img_res.crop((left, top, right, bottom)) \n",
    "\n",
    "# teams_remaining"
   ]
  },
  {
   "cell_type": "markdown",
   "metadata": {},
   "source": [
    "## Bottom Right Numbers"
   ]
  },
  {
   "cell_type": "code",
   "execution_count": 7,
   "metadata": {},
   "outputs": [],
   "source": [
    "left = 1100\n",
    "top = 635\n",
    "right = 1255\n",
    "bottom = 680\n",
    "\n",
    "img_res = img.crop((left, top, right, bottom)) \n",
    "\n",
    "# img_res"
   ]
  },
  {
   "cell_type": "code",
   "execution_count": 8,
   "metadata": {},
   "outputs": [],
   "source": [
    "left = 115\n",
    "top = 0\n",
    "right = 155\n",
    "bottom = 45\n",
    "\n",
    "lethal_equipment = img_res.crop((left, top, right, bottom)) \n",
    "\n",
    "# lethal_equipment"
   ]
  },
  {
   "cell_type": "code",
   "execution_count": 9,
   "metadata": {},
   "outputs": [],
   "source": [
    "left = 65\n",
    "top = 0\n",
    "right = 115\n",
    "bottom = 45\n",
    "\n",
    "tactical_equipment = img_res.crop((left, top, right, bottom)) \n",
    "\n",
    "# tactical_equipment"
   ]
  },
  {
   "cell_type": "code",
   "execution_count": 10,
   "metadata": {},
   "outputs": [],
   "source": [
    "left = 0\n",
    "top = 0\n",
    "right = 65\n",
    "bottom = 45\n",
    "\n",
    "ammo = img_res.crop((left, top, right, bottom)) \n",
    "\n",
    "# ammo"
   ]
  },
  {
   "cell_type": "markdown",
   "metadata": {},
   "source": [
    "# Time"
   ]
  },
  {
   "cell_type": "code",
   "execution_count": 11,
   "metadata": {},
   "outputs": [
    {
     "name": "stdout",
     "output_type": "stream",
     "text": [
      "1.1719636917114258\n"
     ]
    }
   ],
   "source": [
    "then = time.time()\n",
    "\n",
    "print(then - now)"
   ]
  },
  {
   "cell_type": "markdown",
   "metadata": {},
   "source": [
    "Note: Doing the imports and Loading & resizing the image 1 time instead of 2 times saved ~0.7 seconds. (maybe faster way to get image into PIL?)"
   ]
  }
 ],
 "metadata": {
  "kernelspec": {
   "display_name": "Python 3",
   "language": "python",
   "name": "python3"
  },
  "language_info": {
   "codemirror_mode": {
    "name": "ipython",
    "version": 3
   },
   "file_extension": ".py",
   "mimetype": "text/x-python",
   "name": "python",
   "nbconvert_exporter": "python",
   "pygments_lexer": "ipython3",
   "version": "3.7.7"
  }
 },
 "nbformat": 4,
 "nbformat_minor": 4
}
