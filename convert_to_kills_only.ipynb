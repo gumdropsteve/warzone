{
 "cells": [
  {
   "cell_type": "code",
   "execution_count": 1,
   "metadata": {},
   "outputs": [],
   "source": [
    "import os\n",
    "\n",
    "import pandas as pd\n",
    "\n",
    "import cv2\n",
    "import numpy as np\n",
    "\n",
    "from PIL import Image"
   ]
  },
  {
   "cell_type": "code",
   "execution_count": 2,
   "metadata": {},
   "outputs": [],
   "source": [
    "data_dir = 'media/for_kills_only/'\n",
    "out_dir = 'media/kills_only/'"
   ]
  },
  {
   "cell_type": "markdown",
   "metadata": {},
   "source": [
    "## Crop and Relocate Images"
   ]
  },
  {
   "cell_type": "code",
   "execution_count": 3,
   "metadata": {},
   "outputs": [],
   "source": [
    "existing = pd.read_csv('numbers.csv')\n",
    "n_existing = len(existing)\n",
    "\n",
    "df_to_be_converted = pd.read_csv(f'{data_dir}sample_records.csv')\n",
    "preds_n_kills = df_to_be_converted.n_kills.values\n",
    "reference_files_to_be_converted = df_to_be_converted.reference_file.values\n",
    "n_to_be_converted = len([f for f in os.listdir(data_dir) if '.jpg' in f])"
   ]
  },
  {
   "cell_type": "code",
   "execution_count": 4,
   "metadata": {},
   "outputs": [],
   "source": [
    "_ = 0\n",
    "kills_files = []"
   ]
  },
  {
   "cell_type": "code",
   "execution_count": 5,
   "metadata": {},
   "outputs": [],
   "source": [
    "for f in range(n_existing, n_existing + n_to_be_converted):\n",
    "    image = Image.open(reference_files_to_be_converted[_])\n",
    "    _ += 1\n",
    "    \n",
    "    if image.size != (28, 28):\n",
    "        image = image.crop((139, 0, 167, 28))\n",
    "        \n",
    "    if f < 10:\n",
    "        fn = f'loop_0000{f}'\n",
    "    elif f < 100:\n",
    "        fn = f'loop_000{f}'\n",
    "    elif f < 1000:\n",
    "        fn = f'loop_00{f}'\n",
    "    elif f < 10000:\n",
    "        fn = f'loop_0{f}'\n",
    "    else:\n",
    "        raise Exception(f'\\nf > 10,000\\nf = {f}\\n')\n",
    "        \n",
    "    fp = f'{out_dir}{fn}.jpg'\n",
    "    image.save(fp)\n",
    "    kills_files.append(fp)"
   ]
  },
  {
   "cell_type": "code",
   "execution_count": 6,
   "metadata": {},
   "outputs": [],
   "source": [
    "if n_to_be_converted > 0:\n",
    "    for file in reference_files_to_be_converted:\n",
    "        os.remove(file)"
   ]
  },
  {
   "cell_type": "markdown",
   "metadata": {},
   "source": [
    "## Label Cropped Images\n",
    "Any of them (may have some left over from previous sessions, they will be first in line)."
   ]
  },
  {
   "cell_type": "code",
   "execution_count": 7,
   "metadata": {},
   "outputs": [],
   "source": [
    "# existing = pd.read_csv('numbers.csv')\n",
    "\n",
    "seen_files = [i for i in existing.file_path.values]\n",
    "n_seen_files = len(seen_files)\n",
    "numbers = [i for i in existing.numbers.values]\n",
    "\n",
    "unseen_files = [f'{out_dir}{f}' for f in os.listdir(out_dir) if f'{out_dir}{f}' not in seen_files and '.jpg' in f]\n",
    "n_unseen_files = len(unseen_files)\n",
    "\n",
    "n_correct_preds = 0"
   ]
  },
  {
   "cell_type": "code",
   "execution_count": 8,
   "metadata": {},
   "outputs": [
    {
     "name": "stdout",
     "output_type": "stream",
     "text": [
      "# seen: 2114\n",
      "# unseen: 0\n"
     ]
    }
   ],
   "source": [
    "if n_to_be_converted != n_unseen_files:\n",
    "    print(f'Note: {n_unseen_files - n_to_be_converted} preexisting unseen')\n",
    "\n",
    "print(f'# seen: {n_seen_files}\\n# unseen: {n_unseen_files}')\n",
    "\n",
    "if n_to_be_converted == n_unseen_files:\n",
    "    display_preds_n_kills = True"
   ]
  },
  {
   "cell_type": "code",
   "execution_count": 9,
   "metadata": {},
   "outputs": [],
   "source": [
    "for i in range(n_unseen_files):\n",
    "    f = unseen_files[i]\n",
    "    if f in seen_files:\n",
    "        im = Image.open(f)\n",
    "        im = im.resize((im.size[0]*8, im.size[1]*8))\n",
    "        im = np.array(im)\n",
    "        cv2.imshow('kill_digits', im)\n",
    "        key = cv2.waitKey(1)\n",
    "    else:\n",
    "        if int(f[-9:-4]) % 11 == 0:\n",
    "            print(f)\n",
    "\n",
    "        im = Image.open(f)\n",
    "        im = im.resize((im.size[0]*8, im.size[1]*8))\n",
    "        im = np.array(im)\n",
    "        cv2.imshow('kill_digits', im)\n",
    "        key = cv2.waitKey(500)\n",
    "        if display_preds_n_kills:\n",
    "            digits = preds_n_kills[i]\n",
    "            q = input(f'The digits in this image are {digits}? ')\n",
    "            if (q != '') and (q.lower() != 'y') and (q.lower() != 'yes'):\n",
    "                try:\n",
    "                    digits = int(q)\n",
    "                except:\n",
    "                    digits = input('What digits are in this image? ')\n",
    "            else:\n",
    "                n_correct_preds += 1\n",
    "        else:\n",
    "            digits = input('What digits are in this image? ')\n",
    "        numbers.append(digits)\n",
    "        seen_files.append(f)\n",
    "\n",
    "\n",
    "if n_unseen_files > 0:\n",
    "    print(f'# correct: {n_correct_preds}\\n# possible {n_unseen_files}\\n% correct: {n_correct_preds/n_unseen_files*100}')"
   ]
  },
  {
   "cell_type": "markdown",
   "metadata": {},
   "source": [
    "## Record Input Lables"
   ]
  },
  {
   "cell_type": "code",
   "execution_count": 10,
   "metadata": {},
   "outputs": [
    {
     "data": {
      "text/html": [
       "<div>\n",
       "<style scoped>\n",
       "    .dataframe tbody tr th:only-of-type {\n",
       "        vertical-align: middle;\n",
       "    }\n",
       "\n",
       "    .dataframe tbody tr th {\n",
       "        vertical-align: top;\n",
       "    }\n",
       "\n",
       "    .dataframe thead th {\n",
       "        text-align: right;\n",
       "    }\n",
       "</style>\n",
       "<table border=\"1\" class=\"dataframe\">\n",
       "  <thead>\n",
       "    <tr style=\"text-align: right;\">\n",
       "      <th></th>\n",
       "      <th>numbers</th>\n",
       "      <th>file_path</th>\n",
       "    </tr>\n",
       "  </thead>\n",
       "  <tbody>\n",
       "    <tr>\n",
       "      <th>0</th>\n",
       "      <td>0</td>\n",
       "      <td>media/kills_only/loop_00000.jpg</td>\n",
       "    </tr>\n",
       "    <tr>\n",
       "      <th>1</th>\n",
       "      <td>n</td>\n",
       "      <td>media/kills_only/loop_00001.jpg</td>\n",
       "    </tr>\n",
       "    <tr>\n",
       "      <th>2</th>\n",
       "      <td>2</td>\n",
       "      <td>media/kills_only/loop_00002.jpg</td>\n",
       "    </tr>\n",
       "    <tr>\n",
       "      <th>3</th>\n",
       "      <td>2</td>\n",
       "      <td>media/kills_only/loop_00003.jpg</td>\n",
       "    </tr>\n",
       "    <tr>\n",
       "      <th>4</th>\n",
       "      <td>2</td>\n",
       "      <td>media/kills_only/loop_00004.jpg</td>\n",
       "    </tr>\n",
       "    <tr>\n",
       "      <th>...</th>\n",
       "      <td>...</td>\n",
       "      <td>...</td>\n",
       "    </tr>\n",
       "    <tr>\n",
       "      <th>2109</th>\n",
       "      <td>n</td>\n",
       "      <td>media/kills_only/loop_02109.jpg</td>\n",
       "    </tr>\n",
       "    <tr>\n",
       "      <th>2110</th>\n",
       "      <td>n</td>\n",
       "      <td>media/kills_only/loop_02110.jpg</td>\n",
       "    </tr>\n",
       "    <tr>\n",
       "      <th>2111</th>\n",
       "      <td>n</td>\n",
       "      <td>media/kills_only/loop_02111.jpg</td>\n",
       "    </tr>\n",
       "    <tr>\n",
       "      <th>2112</th>\n",
       "      <td>n</td>\n",
       "      <td>media/kills_only/loop_02112.jpg</td>\n",
       "    </tr>\n",
       "    <tr>\n",
       "      <th>2113</th>\n",
       "      <td>e</td>\n",
       "      <td>media/kills_only/loop_02113.jpg</td>\n",
       "    </tr>\n",
       "  </tbody>\n",
       "</table>\n",
       "<p>2114 rows × 2 columns</p>\n",
       "</div>"
      ],
      "text/plain": [
       "     numbers                        file_path\n",
       "0          0  media/kills_only/loop_00000.jpg\n",
       "1          n  media/kills_only/loop_00001.jpg\n",
       "2          2  media/kills_only/loop_00002.jpg\n",
       "3          2  media/kills_only/loop_00003.jpg\n",
       "4          2  media/kills_only/loop_00004.jpg\n",
       "...      ...                              ...\n",
       "2109       n  media/kills_only/loop_02109.jpg\n",
       "2110       n  media/kills_only/loop_02110.jpg\n",
       "2111       n  media/kills_only/loop_02111.jpg\n",
       "2112       n  media/kills_only/loop_02112.jpg\n",
       "2113       e  media/kills_only/loop_02113.jpg\n",
       "\n",
       "[2114 rows x 2 columns]"
      ]
     },
     "execution_count": 10,
     "metadata": {},
     "output_type": "execute_result"
    }
   ],
   "source": [
    "df = pd.DataFrame()\n",
    "\n",
    "df['numbers'] = numbers\n",
    "df['file_path'] = seen_files\n",
    "\n",
    "df"
   ]
  },
  {
   "cell_type": "code",
   "execution_count": 11,
   "metadata": {},
   "outputs": [],
   "source": [
    "df.to_csv('numbers.csv', index=False)"
   ]
  },
  {
   "cell_type": "markdown",
   "metadata": {},
   "source": [
    "#### See New "
   ]
  },
  {
   "cell_type": "code",
   "execution_count": 12,
   "metadata": {},
   "outputs": [
    {
     "data": {
      "text/html": [
       "<div>\n",
       "<style scoped>\n",
       "    .dataframe tbody tr th:only-of-type {\n",
       "        vertical-align: middle;\n",
       "    }\n",
       "\n",
       "    .dataframe tbody tr th {\n",
       "        vertical-align: top;\n",
       "    }\n",
       "\n",
       "    .dataframe thead th {\n",
       "        text-align: right;\n",
       "    }\n",
       "</style>\n",
       "<table border=\"1\" class=\"dataframe\">\n",
       "  <thead>\n",
       "    <tr style=\"text-align: right;\">\n",
       "      <th></th>\n",
       "      <th>numbers</th>\n",
       "      <th>file_path</th>\n",
       "    </tr>\n",
       "  </thead>\n",
       "  <tbody>\n",
       "    <tr>\n",
       "      <th>0</th>\n",
       "      <td>0</td>\n",
       "      <td>media/kills_only/loop_00000.jpg</td>\n",
       "    </tr>\n",
       "    <tr>\n",
       "      <th>1</th>\n",
       "      <td>n</td>\n",
       "      <td>media/kills_only/loop_00001.jpg</td>\n",
       "    </tr>\n",
       "    <tr>\n",
       "      <th>2</th>\n",
       "      <td>2</td>\n",
       "      <td>media/kills_only/loop_00002.jpg</td>\n",
       "    </tr>\n",
       "    <tr>\n",
       "      <th>3</th>\n",
       "      <td>2</td>\n",
       "      <td>media/kills_only/loop_00003.jpg</td>\n",
       "    </tr>\n",
       "    <tr>\n",
       "      <th>4</th>\n",
       "      <td>2</td>\n",
       "      <td>media/kills_only/loop_00004.jpg</td>\n",
       "    </tr>\n",
       "    <tr>\n",
       "      <th>...</th>\n",
       "      <td>...</td>\n",
       "      <td>...</td>\n",
       "    </tr>\n",
       "    <tr>\n",
       "      <th>2109</th>\n",
       "      <td>n</td>\n",
       "      <td>media/kills_only/loop_02109.jpg</td>\n",
       "    </tr>\n",
       "    <tr>\n",
       "      <th>2110</th>\n",
       "      <td>n</td>\n",
       "      <td>media/kills_only/loop_02110.jpg</td>\n",
       "    </tr>\n",
       "    <tr>\n",
       "      <th>2111</th>\n",
       "      <td>n</td>\n",
       "      <td>media/kills_only/loop_02111.jpg</td>\n",
       "    </tr>\n",
       "    <tr>\n",
       "      <th>2112</th>\n",
       "      <td>n</td>\n",
       "      <td>media/kills_only/loop_02112.jpg</td>\n",
       "    </tr>\n",
       "    <tr>\n",
       "      <th>2113</th>\n",
       "      <td>e</td>\n",
       "      <td>media/kills_only/loop_02113.jpg</td>\n",
       "    </tr>\n",
       "  </tbody>\n",
       "</table>\n",
       "<p>2114 rows × 2 columns</p>\n",
       "</div>"
      ],
      "text/plain": [
       "     numbers                        file_path\n",
       "0          0  media/kills_only/loop_00000.jpg\n",
       "1          n  media/kills_only/loop_00001.jpg\n",
       "2          2  media/kills_only/loop_00002.jpg\n",
       "3          2  media/kills_only/loop_00003.jpg\n",
       "4          2  media/kills_only/loop_00004.jpg\n",
       "...      ...                              ...\n",
       "2109       n  media/kills_only/loop_02109.jpg\n",
       "2110       n  media/kills_only/loop_02110.jpg\n",
       "2111       n  media/kills_only/loop_02111.jpg\n",
       "2112       n  media/kills_only/loop_02112.jpg\n",
       "2113       e  media/kills_only/loop_02113.jpg\n",
       "\n",
       "[2114 rows x 2 columns]"
      ]
     },
     "execution_count": 12,
     "metadata": {},
     "output_type": "execute_result"
    }
   ],
   "source": [
    "df = pd.read_csv('numbers.csv')\n",
    "\n",
    "df"
   ]
  },
  {
   "cell_type": "code",
   "execution_count": 13,
   "metadata": {},
   "outputs": [
    {
     "data": {
      "text/plain": [
       "5     250\n",
       "10    148\n",
       "12    141\n",
       "1     136\n",
       "6     130\n",
       "13    113\n",
       "11    107\n",
       "0      95\n",
       "2      85\n",
       "9      82\n",
       "14     67\n",
       "8      62\n",
       "16     61\n",
       "7      60\n",
       "15     59\n",
       "19     50\n",
       "4      37\n",
       "3      34\n",
       "20     28\n",
       "17     27\n",
       "22     26\n",
       "18     25\n",
       "21     14\n",
       "25      9\n",
       "23      7\n",
       "26      5\n",
       "27      4\n",
       "24      3\n",
       "Name: numbers, dtype: int64"
      ]
     },
     "execution_count": 13,
     "metadata": {},
     "output_type": "execute_result"
    }
   ],
   "source": [
    "df = df.loc[df.numbers != 'n']\n",
    "df = df.loc[df.numbers != 'b']\n",
    "df = df.loc[df.numbers != 'e']\n",
    "\n",
    "df.numbers.value_counts()"
   ]
  }
 ],
 "metadata": {
  "kernelspec": {
   "display_name": "Python 3",
   "language": "python",
   "name": "python3"
  },
  "language_info": {
   "codemirror_mode": {
    "name": "ipython",
    "version": 3
   },
   "file_extension": ".py",
   "mimetype": "text/x-python",
   "name": "python",
   "nbconvert_exporter": "python",
   "pygments_lexer": "ipython3",
   "version": "3.7.7"
  }
 },
 "nbformat": 4,
 "nbformat_minor": 4
}
